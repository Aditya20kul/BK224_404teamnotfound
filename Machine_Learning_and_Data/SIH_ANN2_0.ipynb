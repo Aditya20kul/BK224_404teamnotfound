{
  "nbformat": 4,
  "nbformat_minor": 0,
  "metadata": {
    "colab": {
      "name": "SIH_ANN2.0.ipynb",
      "provenance": [],
      "collapsed_sections": []
    },
    "kernelspec": {
      "display_name": "Python 3",
      "language": "python",
      "name": "python3"
    },
    "language_info": {
      "codemirror_mode": {
        "name": "ipython",
        "version": 3
      },
      "file_extension": ".py",
      "mimetype": "text/x-python",
      "name": "python",
      "nbconvert_exporter": "python",
      "pygments_lexer": "ipython3",
      "version": "3.7.4"
    }
  },
  "cells": [
    {
      "cell_type": "code",
      "metadata": {
        "id": "RLLKKMs-onsR",
        "colab_type": "code",
        "colab": {
          "base_uri": "https://localhost:8080/",
          "height": 34
        },
        "outputId": "7e5fe90a-b7cf-4d6b-d67c-4a1593ef5068"
      },
      "source": [
        "from google.colab import drive\n",
        "drive.mount('/content/drive')"
      ],
      "execution_count": null,
      "outputs": [
        {
          "output_type": "stream",
          "text": [
            "Drive already mounted at /content/drive; to attempt to forcibly remount, call drive.mount(\"/content/drive\", force_remount=True).\n"
          ],
          "name": "stdout"
        }
      ]
    },
    {
      "cell_type": "code",
      "metadata": {
        "colab_type": "code",
        "id": "5KG2jc3hzCSQ",
        "colab": {
          "base_uri": "https://localhost:8080/",
          "height": 52
        },
        "outputId": "c4b12f79-c52c-4c74-f3b0-249dead2f8c2"
      },
      "source": [
        "from tensorflow.keras.models  import Sequential\n",
        "from tensorflow.keras.layers import Dense\n",
        "from tensorflow.keras.callbacks import ModelCheckpoint \n",
        "import pandas as pd\n",
        "%cd drive/My\\ Drive/SIH\n",
        "import numpy as np"
      ],
      "execution_count": null,
      "outputs": [
        {
          "output_type": "stream",
          "text": [
            "[Errno 2] No such file or directory: 'drive/My Drive/SIH'\n",
            "/content/drive/My Drive/SIH\n"
          ],
          "name": "stdout"
        }
      ]
    },
    {
      "cell_type": "code",
      "metadata": {
        "id": "h6H8wqTloXIk",
        "colab_type": "code",
        "colab": {}
      },
      "source": [
        "df=pd.read_excel('Light_oil_datset.xls')\n",
        "df.head()    \n",
        "train=df[['Thi','Tci','Tho','Tco','U','LMTD','Q_Actual','Q_Ideal']]\n",
        "y=df[['Efficiency']]"
      ],
      "execution_count": null,
      "outputs": []
    },
    {
      "cell_type": "code",
      "metadata": {
        "colab_type": "code",
        "id": "S342v4SqytY_",
        "colab": {
          "base_uri": "https://localhost:8080/",
          "height": 178
        },
        "outputId": "e9a42b12-6cc0-4440-b172-6b1fea4ef38c"
      },
      "source": [
        "NN_model = Sequential()\n",
        "\n",
        "# The Input Layer :\n",
        "NN_model.add(Dense(128, kernel_initializer='normal',input_shape=train.shape[1:], activation='relu'))\n",
        "\n",
        "# The Hidden Layers :\n",
        "NN_model.add(Dense(256, kernel_initializer='normal',activation='relu'))\n",
        "NN_model.add(Dense(128, kernel_initializer='normal',activation='relu'))\n",
        "NN_model.add(Dense(64, kernel_initializer='normal',activation='relu'))\n",
        "NN_model.add(Dense(64, kernel_initializer='normal',activation='relu'))\n",
        "NN_model.add(Dense(32, kernel_initializer='normal',activation='relu'))\n",
        "\n",
        "# The Output Layer :\n",
        "NN_model.add(Dense(1, kernel_initializer='normal',activation='linear'))\n",
        "\n",
        "# Compile the network :\n",
        "NN_model.compile(loss='mean_absolute_error', optimizer='adam', metrics=['mean_absolute_error'])\n",
        "history=NN_model.fit(train,y,batch_size=40,epochs=4,validation_split=0.3)"
      ],
      "execution_count": null,
      "outputs": [
        {
          "output_type": "stream",
          "text": [
            "Epoch 1/4\n",
            "700/700 [==============================] - 2s 3ms/step - loss: 3.9767 - mean_absolute_error: 3.9767 - val_loss: 0.9267 - val_mean_absolute_error: 0.9267\n",
            "Epoch 2/4\n",
            "700/700 [==============================] - 2s 3ms/step - loss: 1.1761 - mean_absolute_error: 1.1761 - val_loss: 1.2221 - val_mean_absolute_error: 1.2221\n",
            "Epoch 3/4\n",
            "700/700 [==============================] - 2s 3ms/step - loss: 1.0730 - mean_absolute_error: 1.0730 - val_loss: 0.9548 - val_mean_absolute_error: 0.9548\n",
            "Epoch 4/4\n",
            "700/700 [==============================] - 2s 3ms/step - loss: 1.1280 - mean_absolute_error: 1.1280 - val_loss: 1.0100 - val_mean_absolute_error: 1.0100\n"
          ],
          "name": "stdout"
        }
      ]
    },
    {
      "cell_type": "code",
      "metadata": {
        "colab_type": "code",
        "id": "l_ZcMZNp0pjM",
        "colab": {
          "base_uri": "https://localhost:8080/",
          "height": 295
        },
        "outputId": "4081108c-8e62-4c01-92b4-10299311c6f3"
      },
      "source": [
        "import tensorflow.keras\n",
        "from matplotlib import pyplot as plt\n",
        "plt.plot(history.history['loss'])\n",
        "plt.plot(history.history['val_loss'])\n",
        "plt.title('model loss')\n",
        "plt.ylabel('loss')\n",
        "plt.xlabel('epoch')\n",
        "plt.legend(['train', 'val'], loc='upper left')\n",
        "plt.show()"
      ],
      "execution_count": null,
      "outputs": [
        {
          "output_type": "display_data",
          "data": {
            "image/png": "[encoded data removed]",
            "text/plain": [
              "<Figure size 432x288 with 1 Axes>"
            ]
          },
          "metadata": {
            "tags": [],
            "needs_background": "light"
          }
        }
      ]
    },
    {
      "cell_type": "code",
      "metadata": {
        "id": "aedIaB9KqYln",
        "colab_type": "code",
        "colab": {
          "base_uri": "https://localhost:8080/",
          "height": 52
        },
        "outputId": "9980f6c8-fef1-4568-9914-a1f770547c73"
      },
      "source": [
        "np.array(train.iloc[2])"
      ],
      "execution_count": null,
      "outputs": [
        {
          "output_type": "execute_result",
          "data": {
            "text/plain": [
              "array([3.57000000e+02, 4.50000000e+01, 2.39000000e+02, 9.00000000e+01,\n",
              "       7.95822250e-01, 2.28560336e+02, 2.16532128e+03, 3.85614011e+03])"
            ]
          },
          "metadata": {
            "tags": []
          },
          "execution_count": 19
        }
      ]
    },
    {
      "cell_type": "code",
      "metadata": {
        "id": "F-_Xm6MtoXIu",
        "colab_type": "code",
        "colab": {
          "base_uri": "https://localhost:8080/",
          "height": 70
        },
        "outputId": "0bc7dab7-f687-4312-a042-46605b0ea500"
      },
      "source": [
        "test1=[3.57000000e+02, 4.50000000e+01, 2.39000000e+02, 9.00000000e+01,\n",
        "       7.95822250e-01, 2.28560336e+02, 2.16532128e+03, 3.85614011e+03]\n",
        "test1=np.array(test1).reshape(1,8)\n",
        "print(NN_model.predict(test1))\n",
        "print(y.iloc[2])"
      ],
      "execution_count": null,
      "outputs": [
        {
          "output_type": "stream",
          "text": [
            "[[57.383137]]\n",
            "Efficiency    56.152557\n",
            "Name: 2, dtype: float64\n"
          ],
          "name": "stdout"
        }
      ]
    },
    {
      "cell_type": "code",
      "metadata": {
        "id": "dvzqsRQ2oXI8",
        "colab_type": "code",
        "colab": {}
      },
      "source": [
        "NN_model.save('ANN version 3.0.h5')"
      ],
      "execution_count": null,
      "outputs": []
    },
    {
      "cell_type": "code",
      "metadata": {
        "colab_type": "code",
        "id": "5XBHgIJLLV7z",
        "colab": {
          "base_uri": "https://localhost:8080/",
          "height": 158
        },
        "outputId": "3914a431-f0e6-4f04-b7c5-3a555e2f008f"
      },
      "source": [
        "print(df.head())\n",
        "X=df[['Thi','Tci','Tho','Tco','U','LMTD','Q_Actual','Q_Ideal']]"
      ],
      "execution_count": null,
      "outputs": [
        {
          "output_type": "stream",
          "text": [
            "   Unnamed: 0  Thi  Tci  Tho  ...        LMTD      Q_Ideal     Q_Actual  Efficiency\n",
            "0           0  341   41  222  ...  219.009203  2261.432388  1636.407875   72.361565\n",
            "1           1  343   37  236  ...  234.053544  3956.027692  1614.572356   40.812969\n",
            "2           2  357   45  239  ...  228.560336  3856.140107  2165.321282   56.152557\n",
            "3           3  349   38  241  ...  237.181401  4521.612602  1297.128127   28.687290\n",
            "4           4  341   31  220  ...  222.616162  2753.082218   872.495938   31.691605\n",
            "\n",
            "[5 rows x 10 columns]\n"
          ],
          "name": "stdout"
        }
      ]
    },
    {
      "cell_type": "code",
      "metadata": {
        "id": "JLzQRrHMrZGo",
        "colab_type": "code",
        "colab": {}
      },
      "source": [
        "from keras.models import load_model"
      ],
      "execution_count": null,
      "outputs": []
    },
    {
      "cell_type": "code",
      "metadata": {
        "id": "2zA6Evfrtmzd",
        "colab_type": "code",
        "colab": {}
      },
      "source": [
        "model  = load_model('ANN version 3.0.h5',compile=False)"
      ],
      "execution_count": null,
      "outputs": []
    },
    {
      "cell_type": "code",
      "metadata": {
        "id": "NyLJgbWehGM8",
        "colab_type": "code",
        "colab": {}
      },
      "source": [
        "model.predict([[17.094,82.2,,28.698]])"
      ],
      "execution_count": null,
      "outputs": []
    },
    {
      "cell_type": "code",
      "metadata": {
        "id": "emOKZdDTtqIl",
        "colab_type": "code",
        "colab": {
          "base_uri": "https://localhost:8080/",
          "height": 246
        },
        "outputId": "0ed0677a-f59f-4c94-c572-e78ea2fb0379"
      },
      "source": [
        "%ls"
      ],
      "execution_count": null,
      "outputs": [
        {
          "output_type": "stream",
          "text": [
            " 1.PNG                         'model V1.0.h5'\n",
            " ANN_sih_Data.xls               pickle_model_accidental.pkl\n",
            "'ANN version 2.0.h5'            pickle_model_maintenance.pkl\n",
            " HE_accidental.xls              pickle_model.pkl\n",
            " HE_maintenance.xls             sih_pump.csv\n",
            " HE_normal.xls                 'Supplementary Table.xlsx'\n",
            " jolib_model__Accidental.sav    TPT40_RawData_5s.gsheet\n",
            " jolib_model__Maintenance.sav   TPT40_RawData_5s.xlsx\n",
            " jolib_model__normal_0.sav     'Train 2 Weights-025--19.40311.hdf5'\n",
            " jolib_normal.sav              'Train 3 Weights-027--505.68574.hdf5'\n",
            " jolib_pump2.sav                turbine.csv\n",
            " jolib_pump.sav                 Weights-051--0.01911.hdf5\n",
            " jolib_turbinel.sav             Weights-158--0.01271.hdf5\n"
          ],
          "name": "stdout"
        }
      ]
    },
    {
      "cell_type": "code",
      "metadata": {
        "id": "pGdkdAsdt0cn",
        "colab_type": "code",
        "colab": {}
      },
      "source": [
        "df_test = pd.read_excel('HE_normal.xls')"
      ],
      "execution_count": null,
      "outputs": []
    },
    {
      "cell_type": "code",
      "metadata": {
        "id": "CJtDlurSuHkC",
        "colab_type": "code",
        "colab": {}
      },
      "source": [
        "test = df_test[['Thi','Tci','Tho','Tco','UA','LMTD','Q_Actual','Q_Ideal']]\n",
        "y_test=df_test[['Efficiency']]"
      ],
      "execution_count": null,
      "outputs": []
    },
    {
      "cell_type": "code",
      "metadata": {
        "id": "9AIU86cuuMIb",
        "colab_type": "code",
        "colab": {}
      },
      "source": [
        "result1=model.predict(test)"
      ],
      "execution_count": null,
      "outputs": []
    },
    {
      "cell_type": "code",
      "metadata": {
        "id": "XkAYt1fduXAW",
        "colab_type": "code",
        "colab": {}
      },
      "source": [
        "from sklearn.metrics import mean_absolute_error"
      ],
      "execution_count": null,
      "outputs": []
    },
    {
      "cell_type": "code",
      "metadata": {
        "id": "xTF-pDfbugp3",
        "colab_type": "code",
        "colab": {
          "base_uri": "https://localhost:8080/",
          "height": 34
        },
        "outputId": "3f5eb693-b189-4186-b9ba-a26fe565ef6f"
      },
      "source": [
        "mean_absolute_error(y_test,result1)"
      ],
      "execution_count": null,
      "outputs": [
        {
          "output_type": "execute_result",
          "data": {
            "text/plain": [
              "61.795476125539686"
            ]
          },
          "metadata": {
            "tags": []
          },
          "execution_count": 35
        }
      ]
    },
    {
      "cell_type": "code",
      "metadata": {
        "id": "fQcwMscjund4",
        "colab_type": "code",
        "colab": {
          "base_uri": "https://localhost:8080/",
          "height": 34
        },
        "outputId": "a5db894f-a270-4e5c-9f7e-f2367b0b76d9"
      },
      "source": [
        "np.mean(np.array(y_test))"
      ],
      "execution_count": null,
      "outputs": [
        {
          "output_type": "execute_result",
          "data": {
            "text/plain": [
              "73.80227627545729"
            ]
          },
          "metadata": {
            "tags": []
          },
          "execution_count": 36
        }
      ]
    },
    {
      "cell_type": "code",
      "metadata": {
        "id": "ZfUwfBL0uoT4",
        "colab_type": "code",
        "colab": {
          "base_uri": "https://localhost:8080/",
          "height": 34
        },
        "outputId": "d6e5a36b-cd3c-4b92-a006-7c159c5c74b5"
      },
      "source": [
        "np.mean(np.array(result1))"
      ],
      "execution_count": null,
      "outputs": [
        {
          "output_type": "execute_result",
          "data": {
            "text/plain": [
              "12.006801"
            ]
          },
          "metadata": {
            "tags": []
          },
          "execution_count": 37
        }
      ]
    },
    {
      "cell_type": "code",
      "metadata": {
        "id": "6Ssa66jAvAKl",
        "colab_type": "code",
        "colab": {
          "base_uri": "https://localhost:8080/",
          "height": 34
        },
        "outputId": "7879604e-a495-4f03-cf63-ff5777d31f86"
      },
      "source": [
        "#predicting Tho \n",
        "df = pd.read_excel('Light_oil_datset.xls')\n",
        "print(df.shape)\n",
        "df.head()\n",
        "X_th=df[['Thi','Tci','U','LMTD','Q_Actual','Q_Ideal']]\n",
        "y_th=df[['Tho']]"
      ],
      "execution_count": null,
      "outputs": [
        {
          "output_type": "stream",
          "text": [
            "(40000, 10)\n"
          ],
          "name": "stdout"
        }
      ]
    },
    {
      "cell_type": "code",
      "metadata": {
        "id": "OrOfOdY2wfL9",
        "colab_type": "code",
        "colab": {
          "base_uri": "https://localhost:8080/",
          "height": 1000
        },
        "outputId": "31e696c6-1fca-4925-bc1a-93775e0bba13"
      },
      "source": [
        "#predicting Tho \n",
        "df = pd.read_excel('Light_oil_datset.xls')\n",
        "print(df.shape)\n",
        "df.head()\n",
        "X_th=df[['Thi','Tci','U','LMTD','Q_Actual','Q_Ideal']]\n",
        "y_th=df[['Tho']]\n",
        "NN_model = Sequential()\n",
        "\n",
        "# The Input Layer :\n",
        "NN_model.add(Dense(512, kernel_initializer='normal',input_shape=X_th.shape[1:], activation='relu'))\n",
        "\n",
        "# The Hidden Layers :\n",
        "NN_model.add(Dense(256, kernel_initializer='normal',activation='relu'))\n",
        "NN_model.add(Dense(128, kernel_initializer='normal',activation='relu'))\n",
        "NN_model.add(Dense(64, kernel_initializer='normal',activation='relu'))\n",
        "NN_model.add(Dense(64, kernel_initializer='normal',activation='relu'))\n",
        "NN_model.add(Dense(32, kernel_initializer='normal',activation='relu'))\n",
        "\n",
        "# The Output Layer :\n",
        "NN_model.add(Dense(1, kernel_initializer='normal',activation='linear'))\n",
        "\n",
        "# Compile the network :\n",
        "NN_model.compile(loss='mean_absolute_error', optimizer='adam', metrics=['mean_absolute_error'])\n",
        "history=NN_model.fit(X_th,y_th,batch_size=32,epochs=100,validation_split=0.3)"
      ],
      "execution_count": null,
      "outputs": [
        {
          "output_type": "stream",
          "text": [
            "Epoch 1/100\n",
            "875/875 [==============================] - 5s 6ms/step - loss: 15.6812 - mean_absolute_error: 15.6812 - val_loss: 5.9648 - val_mean_absolute_error: 5.9648\n",
            "Epoch 2/100\n",
            "875/875 [==============================] - 5s 5ms/step - loss: 6.7808 - mean_absolute_error: 6.7808 - val_loss: 5.6783 - val_mean_absolute_error: 5.6783\n",
            "Epoch 3/100\n",
            "875/875 [==============================] - 5s 6ms/step - loss: 6.7437 - mean_absolute_error: 6.7437 - val_loss: 5.4266 - val_mean_absolute_error: 5.4266\n",
            "Epoch 4/100\n",
            "875/875 [==============================] - 5s 6ms/step - loss: 6.5123 - mean_absolute_error: 6.5123 - val_loss: 5.4469 - val_mean_absolute_error: 5.4469\n",
            "Epoch 5/100\n",
            "875/875 [==============================] - 5s 6ms/step - loss: 6.2074 - mean_absolute_error: 6.2074 - val_loss: 6.2648 - val_mean_absolute_error: 6.2648\n",
            "Epoch 6/100\n",
            "875/875 [==============================] - 5s 6ms/step - loss: 5.9677 - mean_absolute_error: 5.9677 - val_loss: 5.2137 - val_mean_absolute_error: 5.2137\n",
            "Epoch 7/100\n",
            "875/875 [==============================] - 5s 6ms/step - loss: 6.0073 - mean_absolute_error: 6.0073 - val_loss: 5.1545 - val_mean_absolute_error: 5.1545\n",
            "Epoch 8/100\n",
            "875/875 [==============================] - 5s 6ms/step - loss: 6.1573 - mean_absolute_error: 6.1573 - val_loss: 4.9642 - val_mean_absolute_error: 4.9642\n",
            "Epoch 9/100\n",
            "875/875 [==============================] - 5s 6ms/step - loss: 5.9001 - mean_absolute_error: 5.9001 - val_loss: 5.0670 - val_mean_absolute_error: 5.0670\n",
            "Epoch 10/100\n",
            "875/875 [==============================] - 5s 6ms/step - loss: 5.6930 - mean_absolute_error: 5.6930 - val_loss: 5.1468 - val_mean_absolute_error: 5.1468\n",
            "Epoch 11/100\n",
            "875/875 [==============================] - 5s 6ms/step - loss: 5.6636 - mean_absolute_error: 5.6636 - val_loss: 5.1216 - val_mean_absolute_error: 5.1216\n",
            "Epoch 12/100\n",
            "875/875 [==============================] - 5s 6ms/step - loss: 5.6723 - mean_absolute_error: 5.6723 - val_loss: 4.9234 - val_mean_absolute_error: 4.9234\n",
            "Epoch 13/100\n",
            "875/875 [==============================] - 5s 6ms/step - loss: 5.5962 - mean_absolute_error: 5.5962 - val_loss: 5.4527 - val_mean_absolute_error: 5.4527\n",
            "Epoch 14/100\n",
            "875/875 [==============================] - 5s 6ms/step - loss: 5.4270 - mean_absolute_error: 5.4270 - val_loss: 4.9860 - val_mean_absolute_error: 4.9860\n",
            "Epoch 15/100\n",
            "875/875 [==============================] - 5s 6ms/step - loss: 5.3437 - mean_absolute_error: 5.3437 - val_loss: 4.7313 - val_mean_absolute_error: 4.7313\n",
            "Epoch 16/100\n",
            "875/875 [==============================] - 5s 6ms/step - loss: 5.2501 - mean_absolute_error: 5.2501 - val_loss: 5.1809 - val_mean_absolute_error: 5.1809\n",
            "Epoch 17/100\n",
            "875/875 [==============================] - 5s 6ms/step - loss: 5.3038 - mean_absolute_error: 5.3038 - val_loss: 5.6225 - val_mean_absolute_error: 5.6225\n",
            "Epoch 18/100\n",
            "875/875 [==============================] - 5s 6ms/step - loss: 5.4033 - mean_absolute_error: 5.4033 - val_loss: 5.0153 - val_mean_absolute_error: 5.0153\n",
            "Epoch 19/100\n",
            "875/875 [==============================] - 5s 6ms/step - loss: 5.2655 - mean_absolute_error: 5.2655 - val_loss: 4.5948 - val_mean_absolute_error: 4.5948\n",
            "Epoch 20/100\n",
            "875/875 [==============================] - 5s 5ms/step - loss: 5.1664 - mean_absolute_error: 5.1664 - val_loss: 4.4759 - val_mean_absolute_error: 4.4759\n",
            "Epoch 21/100\n",
            "875/875 [==============================] - 5s 6ms/step - loss: 5.2789 - mean_absolute_error: 5.2789 - val_loss: 6.7184 - val_mean_absolute_error: 6.7184\n",
            "Epoch 22/100\n",
            "875/875 [==============================] - 5s 6ms/step - loss: 5.2126 - mean_absolute_error: 5.2126 - val_loss: 7.6247 - val_mean_absolute_error: 7.6247\n",
            "Epoch 23/100\n",
            "875/875 [==============================] - 5s 6ms/step - loss: 5.2474 - mean_absolute_error: 5.2474 - val_loss: 8.7671 - val_mean_absolute_error: 8.7671\n",
            "Epoch 24/100\n",
            "875/875 [==============================] - 5s 6ms/step - loss: 5.0725 - mean_absolute_error: 5.0725 - val_loss: 5.6903 - val_mean_absolute_error: 5.6903\n",
            "Epoch 25/100\n",
            "875/875 [==============================] - 5s 6ms/step - loss: 5.0013 - mean_absolute_error: 5.0013 - val_loss: 4.3887 - val_mean_absolute_error: 4.3887\n",
            "Epoch 26/100\n",
            "875/875 [==============================] - 5s 6ms/step - loss: 5.0881 - mean_absolute_error: 5.0881 - val_loss: 5.5359 - val_mean_absolute_error: 5.5359\n",
            "Epoch 27/100\n",
            "875/875 [==============================] - 5s 6ms/step - loss: 5.2198 - mean_absolute_error: 5.2198 - val_loss: 4.5653 - val_mean_absolute_error: 4.5653\n",
            "Epoch 28/100\n",
            "875/875 [==============================] - 5s 6ms/step - loss: 5.0435 - mean_absolute_error: 5.0435 - val_loss: 4.2948 - val_mean_absolute_error: 4.2948\n",
            "Epoch 29/100\n",
            "875/875 [==============================] - 5s 5ms/step - loss: 5.1565 - mean_absolute_error: 5.1565 - val_loss: 5.6664 - val_mean_absolute_error: 5.6664\n",
            "Epoch 30/100\n",
            "875/875 [==============================] - 5s 6ms/step - loss: 5.1600 - mean_absolute_error: 5.1600 - val_loss: 4.2876 - val_mean_absolute_error: 4.2876\n",
            "Epoch 31/100\n",
            "875/875 [==============================] - 5s 6ms/step - loss: 5.0821 - mean_absolute_error: 5.0821 - val_loss: 4.3445 - val_mean_absolute_error: 4.3445\n",
            "Epoch 32/100\n",
            "875/875 [==============================] - 5s 5ms/step - loss: 5.0006 - mean_absolute_error: 5.0006 - val_loss: 4.4562 - val_mean_absolute_error: 4.4562\n",
            "Epoch 33/100\n",
            "875/875 [==============================] - 5s 5ms/step - loss: 4.9933 - mean_absolute_error: 4.9933 - val_loss: 4.3177 - val_mean_absolute_error: 4.3177\n",
            "Epoch 34/100\n",
            "875/875 [==============================] - 5s 5ms/step - loss: 4.9010 - mean_absolute_error: 4.9010 - val_loss: 4.2758 - val_mean_absolute_error: 4.2758\n",
            "Epoch 35/100\n",
            "875/875 [==============================] - 5s 5ms/step - loss: 4.9234 - mean_absolute_error: 4.9234 - val_loss: 4.3895 - val_mean_absolute_error: 4.3895\n",
            "Epoch 36/100\n",
            "875/875 [==============================] - 5s 6ms/step - loss: 4.9427 - mean_absolute_error: 4.9427 - val_loss: 5.0430 - val_mean_absolute_error: 5.0430\n",
            "Epoch 37/100\n",
            "875/875 [==============================] - 5s 6ms/step - loss: 5.1592 - mean_absolute_error: 5.1592 - val_loss: 4.3484 - val_mean_absolute_error: 4.3484\n",
            "Epoch 38/100\n",
            "875/875 [==============================] - 5s 6ms/step - loss: 4.8839 - mean_absolute_error: 4.8839 - val_loss: 4.2838 - val_mean_absolute_error: 4.2838\n",
            "Epoch 39/100\n",
            "875/875 [==============================] - 5s 5ms/step - loss: 4.9862 - mean_absolute_error: 4.9862 - val_loss: 4.5832 - val_mean_absolute_error: 4.5832\n",
            "Epoch 40/100\n",
            "875/875 [==============================] - 5s 5ms/step - loss: 4.9308 - mean_absolute_error: 4.9308 - val_loss: 4.2882 - val_mean_absolute_error: 4.2882\n",
            "Epoch 41/100\n",
            "875/875 [==============================] - 5s 6ms/step - loss: 4.9386 - mean_absolute_error: 4.9386 - val_loss: 4.4102 - val_mean_absolute_error: 4.4102\n",
            "Epoch 42/100\n",
            "875/875 [==============================] - 5s 6ms/step - loss: 4.8812 - mean_absolute_error: 4.8812 - val_loss: 4.2719 - val_mean_absolute_error: 4.2719\n",
            "Epoch 43/100\n",
            "875/875 [==============================] - 5s 6ms/step - loss: 5.0958 - mean_absolute_error: 5.0958 - val_loss: 5.2928 - val_mean_absolute_error: 5.2928\n",
            "Epoch 44/100\n",
            "875/875 [==============================] - 5s 6ms/step - loss: 4.8995 - mean_absolute_error: 4.8995 - val_loss: 4.9247 - val_mean_absolute_error: 4.9247\n",
            "Epoch 45/100\n",
            "875/875 [==============================] - 5s 6ms/step - loss: 4.9314 - mean_absolute_error: 4.9314 - val_loss: 4.2742 - val_mean_absolute_error: 4.2742\n",
            "Epoch 46/100\n",
            "875/875 [==============================] - 5s 5ms/step - loss: 4.8097 - mean_absolute_error: 4.8097 - val_loss: 4.3837 - val_mean_absolute_error: 4.3837\n",
            "Epoch 47/100\n",
            "875/875 [==============================] - 5s 5ms/step - loss: 4.9783 - mean_absolute_error: 4.9783 - val_loss: 4.5955 - val_mean_absolute_error: 4.5955\n",
            "Epoch 48/100\n",
            "875/875 [==============================] - 5s 6ms/step - loss: 4.8273 - mean_absolute_error: 4.8273 - val_loss: 4.4211 - val_mean_absolute_error: 4.4211\n",
            "Epoch 49/100\n",
            "875/875 [==============================] - 5s 6ms/step - loss: 4.9426 - mean_absolute_error: 4.9426 - val_loss: 4.7236 - val_mean_absolute_error: 4.7236\n",
            "Epoch 50/100\n",
            "875/875 [==============================] - 5s 6ms/step - loss: 4.8892 - mean_absolute_error: 4.8892 - val_loss: 4.2517 - val_mean_absolute_error: 4.2517\n",
            "Epoch 51/100\n",
            "875/875 [==============================] - 5s 5ms/step - loss: 4.9420 - mean_absolute_error: 4.9420 - val_loss: 4.5930 - val_mean_absolute_error: 4.5930\n",
            "Epoch 52/100\n",
            "875/875 [==============================] - 5s 6ms/step - loss: 4.7652 - mean_absolute_error: 4.7652 - val_loss: 4.8720 - val_mean_absolute_error: 4.8720\n",
            "Epoch 53/100\n",
            "875/875 [==============================] - 5s 6ms/step - loss: 4.8251 - mean_absolute_error: 4.8251 - val_loss: 5.3595 - val_mean_absolute_error: 5.3595\n",
            "Epoch 54/100\n",
            "875/875 [==============================] - 5s 6ms/step - loss: 4.9255 - mean_absolute_error: 4.9255 - val_loss: 4.3780 - val_mean_absolute_error: 4.3780\n",
            "Epoch 55/100\n",
            "875/875 [==============================] - 5s 6ms/step - loss: 4.8527 - mean_absolute_error: 4.8527 - val_loss: 4.3215 - val_mean_absolute_error: 4.3215\n",
            "Epoch 56/100\n",
            "875/875 [==============================] - 5s 6ms/step - loss: 4.8139 - mean_absolute_error: 4.8139 - val_loss: 7.3515 - val_mean_absolute_error: 7.3515\n",
            "Epoch 57/100\n",
            "875/875 [==============================] - 5s 6ms/step - loss: 4.8780 - mean_absolute_error: 4.8780 - val_loss: 4.3432 - val_mean_absolute_error: 4.3432\n",
            "Epoch 58/100\n",
            "875/875 [==============================] - 5s 6ms/step - loss: 4.8042 - mean_absolute_error: 4.8042 - val_loss: 4.5957 - val_mean_absolute_error: 4.5957\n",
            "Epoch 59/100\n",
            "875/875 [==============================] - 5s 6ms/step - loss: 4.8170 - mean_absolute_error: 4.8170 - val_loss: 4.2380 - val_mean_absolute_error: 4.2380\n",
            "Epoch 60/100\n",
            "875/875 [==============================] - 5s 6ms/step - loss: 4.7696 - mean_absolute_error: 4.7696 - val_loss: 4.4501 - val_mean_absolute_error: 4.4501\n",
            "Epoch 61/100\n",
            "875/875 [==============================] - 5s 6ms/step - loss: 4.9435 - mean_absolute_error: 4.9435 - val_loss: 5.4642 - val_mean_absolute_error: 5.4642\n",
            "Epoch 62/100\n",
            "875/875 [==============================] - 5s 6ms/step - loss: 4.9528 - mean_absolute_error: 4.9528 - val_loss: 7.6859 - val_mean_absolute_error: 7.6859\n",
            "Epoch 63/100\n",
            "875/875 [==============================] - 5s 6ms/step - loss: 4.8244 - mean_absolute_error: 4.8244 - val_loss: 5.8791 - val_mean_absolute_error: 5.8791\n",
            "Epoch 64/100\n",
            "875/875 [==============================] - 5s 6ms/step - loss: 4.8206 - mean_absolute_error: 4.8206 - val_loss: 4.5218 - val_mean_absolute_error: 4.5218\n",
            "Epoch 65/100\n",
            "875/875 [==============================] - 5s 6ms/step - loss: 4.7775 - mean_absolute_error: 4.7775 - val_loss: 4.3919 - val_mean_absolute_error: 4.3919\n",
            "Epoch 66/100\n",
            "875/875 [==============================] - 5s 6ms/step - loss: 4.7764 - mean_absolute_error: 4.7764 - val_loss: 4.4383 - val_mean_absolute_error: 4.4383\n",
            "Epoch 67/100\n",
            "875/875 [==============================] - 5s 6ms/step - loss: 4.7949 - mean_absolute_error: 4.7949 - val_loss: 4.5713 - val_mean_absolute_error: 4.5713\n",
            "Epoch 68/100\n",
            "875/875 [==============================] - 5s 6ms/step - loss: 4.7634 - mean_absolute_error: 4.7634 - val_loss: 4.3772 - val_mean_absolute_error: 4.3772\n",
            "Epoch 69/100\n",
            "875/875 [==============================] - 5s 6ms/step - loss: 4.9747 - mean_absolute_error: 4.9747 - val_loss: 5.1407 - val_mean_absolute_error: 5.1407\n",
            "Epoch 70/100\n",
            "875/875 [==============================] - 5s 6ms/step - loss: 4.8603 - mean_absolute_error: 4.8603 - val_loss: 5.0573 - val_mean_absolute_error: 5.0573\n",
            "Epoch 71/100\n",
            "875/875 [==============================] - 5s 6ms/step - loss: 4.9845 - mean_absolute_error: 4.9845 - val_loss: 4.5100 - val_mean_absolute_error: 4.5100\n",
            "Epoch 72/100\n",
            "875/875 [==============================] - 5s 6ms/step - loss: 4.7017 - mean_absolute_error: 4.7017 - val_loss: 4.8910 - val_mean_absolute_error: 4.8910\n",
            "Epoch 73/100\n",
            "875/875 [==============================] - 5s 6ms/step - loss: 4.7160 - mean_absolute_error: 4.7160 - val_loss: 5.5124 - val_mean_absolute_error: 5.5124\n",
            "Epoch 74/100\n",
            "875/875 [==============================] - 5s 6ms/step - loss: 4.7542 - mean_absolute_error: 4.7542 - val_loss: 4.3036 - val_mean_absolute_error: 4.3036\n",
            "Epoch 75/100\n",
            "875/875 [==============================] - 5s 6ms/step - loss: 4.8204 - mean_absolute_error: 4.8204 - val_loss: 4.7664 - val_mean_absolute_error: 4.7664\n",
            "Epoch 76/100\n",
            "875/875 [==============================] - 5s 6ms/step - loss: 4.8456 - mean_absolute_error: 4.8456 - val_loss: 6.7678 - val_mean_absolute_error: 6.7678\n",
            "Epoch 77/100\n",
            "875/875 [==============================] - 5s 6ms/step - loss: 4.8473 - mean_absolute_error: 4.8473 - val_loss: 4.4005 - val_mean_absolute_error: 4.4005\n",
            "Epoch 78/100\n",
            "875/875 [==============================] - 5s 6ms/step - loss: 4.7799 - mean_absolute_error: 4.7799 - val_loss: 4.4615 - val_mean_absolute_error: 4.4615\n",
            "Epoch 79/100\n",
            "875/875 [==============================] - 5s 6ms/step - loss: 4.7586 - mean_absolute_error: 4.7586 - val_loss: 4.7836 - val_mean_absolute_error: 4.7836\n",
            "Epoch 80/100\n",
            "875/875 [==============================] - 5s 6ms/step - loss: 4.7781 - mean_absolute_error: 4.7781 - val_loss: 4.2314 - val_mean_absolute_error: 4.2314\n",
            "Epoch 81/100\n",
            "875/875 [==============================] - 5s 6ms/step - loss: 4.7365 - mean_absolute_error: 4.7365 - val_loss: 4.2759 - val_mean_absolute_error: 4.2759\n",
            "Epoch 82/100\n",
            "875/875 [==============================] - 5s 6ms/step - loss: 4.8126 - mean_absolute_error: 4.8126 - val_loss: 4.2233 - val_mean_absolute_error: 4.2233\n",
            "Epoch 83/100\n",
            "875/875 [==============================] - 5s 6ms/step - loss: 4.8066 - mean_absolute_error: 4.8066 - val_loss: 6.8206 - val_mean_absolute_error: 6.8206\n",
            "Epoch 84/100\n",
            "875/875 [==============================] - 5s 6ms/step - loss: 4.7081 - mean_absolute_error: 4.7081 - val_loss: 7.2941 - val_mean_absolute_error: 7.2941\n",
            "Epoch 85/100\n",
            "875/875 [==============================] - 5s 6ms/step - loss: 4.7835 - mean_absolute_error: 4.7835 - val_loss: 5.4496 - val_mean_absolute_error: 5.4496\n",
            "Epoch 86/100\n",
            "875/875 [==============================] - 5s 6ms/step - loss: 4.7483 - mean_absolute_error: 4.7483 - val_loss: 5.8114 - val_mean_absolute_error: 5.8114\n",
            "Epoch 87/100\n",
            "875/875 [==============================] - 5s 5ms/step - loss: 4.7111 - mean_absolute_error: 4.7111 - val_loss: 4.3246 - val_mean_absolute_error: 4.3246\n",
            "Epoch 88/100\n",
            "875/875 [==============================] - 5s 6ms/step - loss: 4.7680 - mean_absolute_error: 4.7680 - val_loss: 4.6290 - val_mean_absolute_error: 4.6290\n",
            "Epoch 89/100\n",
            "875/875 [==============================] - 5s 6ms/step - loss: 4.7196 - mean_absolute_error: 4.7196 - val_loss: 4.4594 - val_mean_absolute_error: 4.4594\n",
            "Epoch 90/100\n",
            "875/875 [==============================] - 5s 6ms/step - loss: 4.7661 - mean_absolute_error: 4.7661 - val_loss: 4.5725 - val_mean_absolute_error: 4.5725\n",
            "Epoch 91/100\n",
            "875/875 [==============================] - 5s 6ms/step - loss: 4.7314 - mean_absolute_error: 4.7314 - val_loss: 4.5289 - val_mean_absolute_error: 4.5289\n",
            "Epoch 92/100\n",
            "875/875 [==============================] - 5s 6ms/step - loss: 4.6795 - mean_absolute_error: 4.6795 - val_loss: 7.1464 - val_mean_absolute_error: 7.1464\n",
            "Epoch 93/100\n",
            "875/875 [==============================] - 5s 6ms/step - loss: 4.6661 - mean_absolute_error: 4.6661 - val_loss: 4.2214 - val_mean_absolute_error: 4.2214\n",
            "Epoch 94/100\n",
            "875/875 [==============================] - 5s 5ms/step - loss: 4.7108 - mean_absolute_error: 4.7108 - val_loss: 4.6669 - val_mean_absolute_error: 4.6669\n",
            "Epoch 95/100\n",
            "875/875 [==============================] - 5s 5ms/step - loss: 4.6113 - mean_absolute_error: 4.6113 - val_loss: 4.6538 - val_mean_absolute_error: 4.6538\n",
            "Epoch 96/100\n",
            "875/875 [==============================] - 5s 6ms/step - loss: 4.7115 - mean_absolute_error: 4.7115 - val_loss: 5.4470 - val_mean_absolute_error: 5.4470\n",
            "Epoch 97/100\n",
            "875/875 [==============================] - 7s 8ms/step - loss: 4.7279 - mean_absolute_error: 4.7279 - val_loss: 5.2248 - val_mean_absolute_error: 5.2248\n",
            "Epoch 98/100\n",
            "875/875 [==============================] - 5s 6ms/step - loss: 4.7701 - mean_absolute_error: 4.7701 - val_loss: 6.2152 - val_mean_absolute_error: 6.2152\n",
            "Epoch 99/100\n",
            "875/875 [==============================] - 5s 6ms/step - loss: 4.6626 - mean_absolute_error: 4.6626 - val_loss: 7.4425 - val_mean_absolute_error: 7.4425\n",
            "Epoch 100/100\n",
            "875/875 [==============================] - 5s 6ms/step - loss: 4.6929 - mean_absolute_error: 4.6929 - val_loss: 4.2527 - val_mean_absolute_error: 4.2527\n"
          ],
          "name": "stdout"
        }
      ]
    },
    {
      "cell_type": "code",
      "metadata": {
        "id": "SU2bV8Jpztw3",
        "colab_type": "code",
        "colab": {
          "base_uri": "https://localhost:8080/",
          "height": 295
        },
        "outputId": "941d931f-979d-40f7-e187-05346b59fcb4"
      },
      "source": [
        "import tensorflow.keras\n",
        "from matplotlib import pyplot as plt\n",
        "plt.plot(history.history['loss'])\n",
        "plt.plot(history.history['val_loss'])\n",
        "plt.title('model loss')\n",
        "plt.ylabel('loss')\n",
        "plt.xlabel('epoch')\n",
        "plt.legend(['train', 'val'], loc='upper left')\n",
        "plt.show()"
      ],
      "execution_count": null,
      "outputs": [
        {
          "output_type": "display_data",
          "data": {
            "image/png": "[encoded data removed]",
            "text/plain": [
              "<Figure size 432x288 with 1 Axes>"
            ]
          },
          "metadata": {
            "tags": [],
            "needs_background": "light"
          }
        }
      ]
    },
    {
      "cell_type": "code",
      "metadata": {
        "id": "u5vNA9Imwq4W",
        "colab_type": "code",
        "colab": {}
      },
      "source": [
        "NN_model.save('Temp_heat_out_V2.0.h5')"
      ],
      "execution_count": null,
      "outputs": []
    },
    {
      "cell_type": "code",
      "metadata": {
        "id": "mO1a5F0mx7YZ",
        "colab_type": "code",
        "colab": {}
      },
      "source": [
        ""
      ],
      "execution_count": null,
      "outputs": []
    },
    {
      "cell_type": "code",
      "metadata": {
        "id": "EjKHkDT706_Y",
        "colab_type": "code",
        "colab": {
          "base_uri": "https://localhost:8080/",
          "height": 404
        },
        "outputId": "c2a5b5d9-6a1e-4b56-9227-3c87dcce81fa"
      },
      "source": [
        "NN_model.summary()"
      ],
      "execution_count": null,
      "outputs": [
        {
          "output_type": "stream",
          "text": [
            "Model: \"sequential_11\"\n",
            "_________________________________________________________________\n",
            "Layer (type)                 Output Shape              Param #   \n",
            "=================================================================\n",
            "dense_70 (Dense)             (None, 512)               3584      \n",
            "_________________________________________________________________\n",
            "dense_71 (Dense)             (None, 256)               131328    \n",
            "_________________________________________________________________\n",
            "dense_72 (Dense)             (None, 128)               32896     \n",
            "_________________________________________________________________\n",
            "dense_73 (Dense)             (None, 64)                8256      \n",
            "_________________________________________________________________\n",
            "dense_74 (Dense)             (None, 64)                4160      \n",
            "_________________________________________________________________\n",
            "dense_75 (Dense)             (None, 32)                2080      \n",
            "_________________________________________________________________\n",
            "dense_76 (Dense)             (None, 1)                 33        \n",
            "=================================================================\n",
            "Total params: 182,337\n",
            "Trainable params: 182,337\n",
            "Non-trainable params: 0\n",
            "_________________________________________________________________\n"
          ],
          "name": "stdout"
        }
      ]
    },
    {
      "cell_type": "code",
      "metadata": {
        "id": "YOT1q5nM2juO",
        "colab_type": "code",
        "colab": {
          "base_uri": "https://localhost:8080/",
          "height": 1000
        },
        "outputId": "ab3cff32-79c2-4cef-b35c-c0e739e83fca"
      },
      "source": [
        "#predicting Tho \n",
        "df = pd.read_excel('Light_oil_datset.xls')\n",
        "print(df.shape)\n",
        "df.head()\n",
        "X_th=df[['Thi','Tci','U','LMTD','Q_Actual','Q_Ideal']]\n",
        "y_th=df[['Tco']]\n",
        "NN_model = Sequential()\n",
        "\n",
        "# The Input Layer :\n",
        "NN_model.add(Dense(512, kernel_initializer='normal',input_shape=X_th.shape[1:], activation='relu'))\n",
        "\n",
        "# The Hidden Layers :\n",
        "NN_model.add(Dense(256, kernel_initializer='normal',activation='relu'))\n",
        "NN_model.add(Dense(128, kernel_initializer='normal',activation='relu'))\n",
        "NN_model.add(Dense(64, kernel_initializer='normal',activation='relu'))\n",
        "NN_model.add(Dense(64, kernel_initializer='normal',activation='relu'))\n",
        "NN_model.add(Dense(32, kernel_initializer='normal',activation='relu'))\n",
        "\n",
        "# The Output Layer :\n",
        "NN_model.add(Dense(1, kernel_initializer='normal',activation='linear'))\n",
        "\n",
        "# Compile the network :\n",
        "NN_model.compile(loss='mean_absolute_error', optimizer='adam', metrics=['mean_absolute_error'])\n",
        "history=NN_model.fit(X_th,y_th,batch_size=32,epochs=100,validation_split=0.3)"
      ],
      "execution_count": null,
      "outputs": [
        {
          "output_type": "stream",
          "text": [
            "(40000, 10)\n",
            "Epoch 1/100\n",
            "875/875 [==============================] - 5s 5ms/step - loss: 9.5431 - mean_absolute_error: 9.5431 - val_loss: 6.9945 - val_mean_absolute_error: 6.9945\n",
            "Epoch 2/100\n",
            "875/875 [==============================] - 4s 5ms/step - loss: 7.3186 - mean_absolute_error: 7.3186 - val_loss: 6.8816 - val_mean_absolute_error: 6.8816\n",
            "Epoch 3/100\n",
            "875/875 [==============================] - 4s 5ms/step - loss: 7.2364 - mean_absolute_error: 7.2364 - val_loss: 6.7342 - val_mean_absolute_error: 6.7342\n",
            "Epoch 4/100\n",
            "875/875 [==============================] - 4s 5ms/step - loss: 7.2148 - mean_absolute_error: 7.2148 - val_loss: 6.8921 - val_mean_absolute_error: 6.8921\n",
            "Epoch 5/100\n",
            "875/875 [==============================] - 4s 5ms/step - loss: 7.0488 - mean_absolute_error: 7.0488 - val_loss: 6.5902 - val_mean_absolute_error: 6.5902\n",
            "Epoch 6/100\n",
            "875/875 [==============================] - 4s 5ms/step - loss: 7.0112 - mean_absolute_error: 7.0112 - val_loss: 7.1396 - val_mean_absolute_error: 7.1396\n",
            "Epoch 7/100\n",
            "875/875 [==============================] - 4s 5ms/step - loss: 7.0016 - mean_absolute_error: 7.0016 - val_loss: 6.9557 - val_mean_absolute_error: 6.9557\n",
            "Epoch 8/100\n",
            "875/875 [==============================] - 4s 5ms/step - loss: 6.9510 - mean_absolute_error: 6.9510 - val_loss: 8.8198 - val_mean_absolute_error: 8.8198\n",
            "Epoch 9/100\n",
            "875/875 [==============================] - 4s 5ms/step - loss: 6.7912 - mean_absolute_error: 6.7912 - val_loss: 6.5708 - val_mean_absolute_error: 6.5708\n",
            "Epoch 10/100\n",
            "875/875 [==============================] - 4s 5ms/step - loss: 6.6629 - mean_absolute_error: 6.6629 - val_loss: 8.5432 - val_mean_absolute_error: 8.5432\n",
            "Epoch 11/100\n",
            "875/875 [==============================] - 4s 5ms/step - loss: 6.6013 - mean_absolute_error: 6.6013 - val_loss: 6.5975 - val_mean_absolute_error: 6.5975\n",
            "Epoch 12/100\n",
            "875/875 [==============================] - 4s 5ms/step - loss: 6.5208 - mean_absolute_error: 6.5208 - val_loss: 6.2247 - val_mean_absolute_error: 6.2247\n",
            "Epoch 13/100\n",
            "875/875 [==============================] - 4s 5ms/step - loss: 6.1982 - mean_absolute_error: 6.1982 - val_loss: 6.8641 - val_mean_absolute_error: 6.8641\n",
            "Epoch 14/100\n",
            "875/875 [==============================] - 4s 5ms/step - loss: 6.0831 - mean_absolute_error: 6.0831 - val_loss: 5.4932 - val_mean_absolute_error: 5.4932\n",
            "Epoch 15/100\n",
            "875/875 [==============================] - 4s 5ms/step - loss: 6.0033 - mean_absolute_error: 6.0033 - val_loss: 5.6219 - val_mean_absolute_error: 5.6219\n",
            "Epoch 16/100\n",
            "875/875 [==============================] - 4s 5ms/step - loss: 6.0145 - mean_absolute_error: 6.0145 - val_loss: 6.1799 - val_mean_absolute_error: 6.1799\n",
            "Epoch 17/100\n",
            "875/875 [==============================] - 4s 5ms/step - loss: 6.0416 - mean_absolute_error: 6.0416 - val_loss: 6.3779 - val_mean_absolute_error: 6.3779\n",
            "Epoch 18/100\n",
            "875/875 [==============================] - 4s 5ms/step - loss: 5.8601 - mean_absolute_error: 5.8601 - val_loss: 5.4419 - val_mean_absolute_error: 5.4419\n",
            "Epoch 19/100\n",
            "875/875 [==============================] - 4s 5ms/step - loss: 5.8436 - mean_absolute_error: 5.8436 - val_loss: 5.3501 - val_mean_absolute_error: 5.3501\n",
            "Epoch 20/100\n",
            "875/875 [==============================] - 4s 5ms/step - loss: 5.9231 - mean_absolute_error: 5.9231 - val_loss: 5.3745 - val_mean_absolute_error: 5.3745\n",
            "Epoch 21/100\n",
            "875/875 [==============================] - 4s 5ms/step - loss: 5.8711 - mean_absolute_error: 5.8711 - val_loss: 5.9424 - val_mean_absolute_error: 5.9424\n",
            "Epoch 22/100\n",
            "875/875 [==============================] - 4s 5ms/step - loss: 5.7787 - mean_absolute_error: 5.7787 - val_loss: 5.4611 - val_mean_absolute_error: 5.4611\n",
            "Epoch 23/100\n",
            "875/875 [==============================] - 4s 5ms/step - loss: 5.8657 - mean_absolute_error: 5.8657 - val_loss: 5.3252 - val_mean_absolute_error: 5.3252\n",
            "Epoch 24/100\n",
            "875/875 [==============================] - 4s 5ms/step - loss: 5.7873 - mean_absolute_error: 5.7873 - val_loss: 5.9548 - val_mean_absolute_error: 5.9548\n",
            "Epoch 25/100\n",
            "875/875 [==============================] - 4s 5ms/step - loss: 5.8136 - mean_absolute_error: 5.8136 - val_loss: 5.6547 - val_mean_absolute_error: 5.6547\n",
            "Epoch 26/100\n",
            "875/875 [==============================] - 4s 5ms/step - loss: 5.7840 - mean_absolute_error: 5.7840 - val_loss: 5.3341 - val_mean_absolute_error: 5.3341\n",
            "Epoch 27/100\n",
            "875/875 [==============================] - 5s 5ms/step - loss: 5.7721 - mean_absolute_error: 5.7721 - val_loss: 6.2628 - val_mean_absolute_error: 6.2628\n",
            "Epoch 28/100\n",
            "875/875 [==============================] - 5s 5ms/step - loss: 5.7630 - mean_absolute_error: 5.7630 - val_loss: 5.4772 - val_mean_absolute_error: 5.4772\n",
            "Epoch 29/100\n",
            "875/875 [==============================] - 4s 5ms/step - loss: 5.7444 - mean_absolute_error: 5.7444 - val_loss: 6.5274 - val_mean_absolute_error: 6.5274\n",
            "Epoch 30/100\n",
            "875/875 [==============================] - 5s 5ms/step - loss: 5.7491 - mean_absolute_error: 5.7491 - val_loss: 5.4534 - val_mean_absolute_error: 5.4534\n",
            "Epoch 31/100\n",
            "875/875 [==============================] - 5s 5ms/step - loss: 5.7581 - mean_absolute_error: 5.7581 - val_loss: 5.3186 - val_mean_absolute_error: 5.3186\n",
            "Epoch 32/100\n",
            "875/875 [==============================] - 4s 5ms/step - loss: 5.7130 - mean_absolute_error: 5.7130 - val_loss: 5.3742 - val_mean_absolute_error: 5.3742\n",
            "Epoch 33/100\n",
            "875/875 [==============================] - 4s 5ms/step - loss: 5.7791 - mean_absolute_error: 5.7791 - val_loss: 5.3342 - val_mean_absolute_error: 5.3342\n",
            "Epoch 34/100\n",
            "875/875 [==============================] - 4s 5ms/step - loss: 5.7678 - mean_absolute_error: 5.7678 - val_loss: 7.2296 - val_mean_absolute_error: 7.2296\n",
            "Epoch 35/100\n",
            "875/875 [==============================] - 4s 5ms/step - loss: 5.7189 - mean_absolute_error: 5.7189 - val_loss: 5.2855 - val_mean_absolute_error: 5.2855\n",
            "Epoch 36/100\n",
            "875/875 [==============================] - 4s 5ms/step - loss: 5.7357 - mean_absolute_error: 5.7357 - val_loss: 6.8678 - val_mean_absolute_error: 6.8678\n",
            "Epoch 37/100\n",
            "875/875 [==============================] - 4s 5ms/step - loss: 5.6658 - mean_absolute_error: 5.6658 - val_loss: 5.3882 - val_mean_absolute_error: 5.3882\n",
            "Epoch 38/100\n",
            "875/875 [==============================] - 4s 5ms/step - loss: 5.7429 - mean_absolute_error: 5.7429 - val_loss: 5.2575 - val_mean_absolute_error: 5.2575\n",
            "Epoch 39/100\n",
            "875/875 [==============================] - 4s 5ms/step - loss: 5.6466 - mean_absolute_error: 5.6466 - val_loss: 5.7675 - val_mean_absolute_error: 5.7675\n",
            "Epoch 40/100\n",
            "875/875 [==============================] - 4s 5ms/step - loss: 5.7002 - mean_absolute_error: 5.7002 - val_loss: 5.2946 - val_mean_absolute_error: 5.2946\n",
            "Epoch 41/100\n",
            "875/875 [==============================] - 4s 5ms/step - loss: 5.7048 - mean_absolute_error: 5.7048 - val_loss: 6.6861 - val_mean_absolute_error: 6.6861\n",
            "Epoch 42/100\n",
            "875/875 [==============================] - 4s 5ms/step - loss: 5.6542 - mean_absolute_error: 5.6542 - val_loss: 5.6765 - val_mean_absolute_error: 5.6765\n",
            "Epoch 43/100\n",
            "875/875 [==============================] - 4s 5ms/step - loss: 5.7220 - mean_absolute_error: 5.7220 - val_loss: 6.1283 - val_mean_absolute_error: 6.1283\n",
            "Epoch 44/100\n",
            "875/875 [==============================] - 4s 5ms/step - loss: 5.7652 - mean_absolute_error: 5.7652 - val_loss: 5.3536 - val_mean_absolute_error: 5.3536\n",
            "Epoch 45/100\n",
            "875/875 [==============================] - 4s 5ms/step - loss: 5.7617 - mean_absolute_error: 5.7617 - val_loss: 5.3795 - val_mean_absolute_error: 5.3795\n",
            "Epoch 46/100\n",
            "875/875 [==============================] - 4s 5ms/step - loss: 5.7373 - mean_absolute_error: 5.7373 - val_loss: 5.3282 - val_mean_absolute_error: 5.3282\n",
            "Epoch 47/100\n",
            "875/875 [==============================] - 4s 5ms/step - loss: 5.6104 - mean_absolute_error: 5.6104 - val_loss: 6.0600 - val_mean_absolute_error: 6.0600\n",
            "Epoch 48/100\n",
            "875/875 [==============================] - 4s 5ms/step - loss: 5.6703 - mean_absolute_error: 5.6703 - val_loss: 5.8680 - val_mean_absolute_error: 5.8680\n",
            "Epoch 49/100\n",
            "875/875 [==============================] - 4s 5ms/step - loss: 5.7450 - mean_absolute_error: 5.7450 - val_loss: 5.8301 - val_mean_absolute_error: 5.8301\n",
            "Epoch 50/100\n",
            "875/875 [==============================] - 4s 5ms/step - loss: 5.7315 - mean_absolute_error: 5.7315 - val_loss: 5.2943 - val_mean_absolute_error: 5.2943\n",
            "Epoch 51/100\n",
            "875/875 [==============================] - 4s 5ms/step - loss: 5.6351 - mean_absolute_error: 5.6351 - val_loss: 5.3234 - val_mean_absolute_error: 5.3234\n",
            "Epoch 52/100\n",
            "875/875 [==============================] - 4s 5ms/step - loss: 5.5997 - mean_absolute_error: 5.5997 - val_loss: 5.3068 - val_mean_absolute_error: 5.3068\n",
            "Epoch 53/100\n",
            "875/875 [==============================] - 4s 5ms/step - loss: 5.6166 - mean_absolute_error: 5.6166 - val_loss: 5.3589 - val_mean_absolute_error: 5.3589\n",
            "Epoch 54/100\n",
            "875/875 [==============================] - 4s 5ms/step - loss: 5.6481 - mean_absolute_error: 5.6481 - val_loss: 5.5103 - val_mean_absolute_error: 5.5103\n",
            "Epoch 55/100\n",
            "875/875 [==============================] - 4s 5ms/step - loss: 5.7365 - mean_absolute_error: 5.7365 - val_loss: 5.5631 - val_mean_absolute_error: 5.5631\n",
            "Epoch 56/100\n",
            "875/875 [==============================] - 4s 5ms/step - loss: 5.6202 - mean_absolute_error: 5.6202 - val_loss: 6.3775 - val_mean_absolute_error: 6.3775\n",
            "Epoch 57/100\n",
            "875/875 [==============================] - 4s 5ms/step - loss: 5.5834 - mean_absolute_error: 5.5834 - val_loss: 5.4226 - val_mean_absolute_error: 5.4226\n",
            "Epoch 58/100\n",
            "875/875 [==============================] - 4s 5ms/step - loss: 5.5840 - mean_absolute_error: 5.5840 - val_loss: 5.2959 - val_mean_absolute_error: 5.2959\n",
            "Epoch 59/100\n",
            "875/875 [==============================] - 4s 5ms/step - loss: 5.5317 - mean_absolute_error: 5.5317 - val_loss: 5.3869 - val_mean_absolute_error: 5.3869\n",
            "Epoch 60/100\n",
            "875/875 [==============================] - 4s 5ms/step - loss: 5.6719 - mean_absolute_error: 5.6719 - val_loss: 5.8858 - val_mean_absolute_error: 5.8858\n",
            "Epoch 61/100\n",
            "875/875 [==============================] - 4s 5ms/step - loss: 5.5989 - mean_absolute_error: 5.5989 - val_loss: 5.7752 - val_mean_absolute_error: 5.7752\n",
            "Epoch 62/100\n",
            "875/875 [==============================] - 4s 5ms/step - loss: 5.6322 - mean_absolute_error: 5.6322 - val_loss: 5.5582 - val_mean_absolute_error: 5.5582\n",
            "Epoch 63/100\n",
            "875/875 [==============================] - 4s 5ms/step - loss: 5.5567 - mean_absolute_error: 5.5567 - val_loss: 5.3573 - val_mean_absolute_error: 5.3573\n",
            "Epoch 64/100\n",
            "875/875 [==============================] - 4s 5ms/step - loss: 5.6008 - mean_absolute_error: 5.6008 - val_loss: 5.7838 - val_mean_absolute_error: 5.7838\n",
            "Epoch 65/100\n",
            "875/875 [==============================] - 4s 5ms/step - loss: 5.5230 - mean_absolute_error: 5.5230 - val_loss: 5.3146 - val_mean_absolute_error: 5.3146\n",
            "Epoch 66/100\n",
            "875/875 [==============================] - 5s 5ms/step - loss: 5.5916 - mean_absolute_error: 5.5916 - val_loss: 5.5455 - val_mean_absolute_error: 5.5455\n",
            "Epoch 67/100\n",
            "875/875 [==============================] - 5s 6ms/step - loss: 5.6139 - mean_absolute_error: 5.6139 - val_loss: 5.8236 - val_mean_absolute_error: 5.8236\n",
            "Epoch 68/100\n",
            "875/875 [==============================] - 4s 5ms/step - loss: 5.6593 - mean_absolute_error: 5.6593 - val_loss: 5.2205 - val_mean_absolute_error: 5.2205\n",
            "Epoch 69/100\n",
            "875/875 [==============================] - 4s 5ms/step - loss: 5.6366 - mean_absolute_error: 5.6366 - val_loss: 6.5919 - val_mean_absolute_error: 6.5919\n",
            "Epoch 70/100\n",
            "875/875 [==============================] - 4s 5ms/step - loss: 5.6601 - mean_absolute_error: 5.6601 - val_loss: 6.2394 - val_mean_absolute_error: 6.2394\n",
            "Epoch 71/100\n",
            "875/875 [==============================] - 4s 5ms/step - loss: 5.6140 - mean_absolute_error: 5.6140 - val_loss: 5.3817 - val_mean_absolute_error: 5.3817\n",
            "Epoch 72/100\n",
            "875/875 [==============================] - 4s 5ms/step - loss: 5.5362 - mean_absolute_error: 5.5362 - val_loss: 5.2707 - val_mean_absolute_error: 5.2707\n",
            "Epoch 73/100\n",
            "875/875 [==============================] - 4s 5ms/step - loss: 5.5978 - mean_absolute_error: 5.5978 - val_loss: 5.2183 - val_mean_absolute_error: 5.2183\n",
            "Epoch 74/100\n",
            "875/875 [==============================] - 4s 5ms/step - loss: 5.6228 - mean_absolute_error: 5.6228 - val_loss: 6.9285 - val_mean_absolute_error: 6.9285\n",
            "Epoch 75/100\n",
            "875/875 [==============================] - 4s 5ms/step - loss: 5.5453 - mean_absolute_error: 5.5453 - val_loss: 5.2499 - val_mean_absolute_error: 5.2499\n",
            "Epoch 76/100\n",
            "875/875 [==============================] - 4s 5ms/step - loss: 5.5347 - mean_absolute_error: 5.5347 - val_loss: 6.2913 - val_mean_absolute_error: 6.2913\n",
            "Epoch 77/100\n",
            "875/875 [==============================] - 4s 5ms/step - loss: 5.5930 - mean_absolute_error: 5.5930 - val_loss: 5.2328 - val_mean_absolute_error: 5.2328\n",
            "Epoch 78/100\n",
            "875/875 [==============================] - 4s 5ms/step - loss: 5.5984 - mean_absolute_error: 5.5984 - val_loss: 7.1841 - val_mean_absolute_error: 7.1841\n",
            "Epoch 79/100\n",
            "875/875 [==============================] - 4s 5ms/step - loss: 5.6322 - mean_absolute_error: 5.6322 - val_loss: 5.2612 - val_mean_absolute_error: 5.2612\n",
            "Epoch 80/100\n",
            "875/875 [==============================] - 4s 5ms/step - loss: 5.5702 - mean_absolute_error: 5.5702 - val_loss: 5.3011 - val_mean_absolute_error: 5.3011\n",
            "Epoch 81/100\n",
            "875/875 [==============================] - 4s 5ms/step - loss: 5.5969 - mean_absolute_error: 5.5969 - val_loss: 5.2439 - val_mean_absolute_error: 5.2439\n",
            "Epoch 82/100\n",
            "875/875 [==============================] - 4s 5ms/step - loss: 5.5760 - mean_absolute_error: 5.5760 - val_loss: 5.3978 - val_mean_absolute_error: 5.3978\n",
            "Epoch 83/100\n",
            "875/875 [==============================] - 4s 5ms/step - loss: 5.5549 - mean_absolute_error: 5.5549 - val_loss: 5.5203 - val_mean_absolute_error: 5.5203\n",
            "Epoch 84/100\n",
            "875/875 [==============================] - 4s 5ms/step - loss: 5.5785 - mean_absolute_error: 5.5785 - val_loss: 5.5487 - val_mean_absolute_error: 5.5487\n",
            "Epoch 85/100\n",
            "875/875 [==============================] - 4s 5ms/step - loss: 5.5133 - mean_absolute_error: 5.5133 - val_loss: 5.4377 - val_mean_absolute_error: 5.4377\n",
            "Epoch 86/100\n",
            "875/875 [==============================] - 4s 5ms/step - loss: 5.5783 - mean_absolute_error: 5.5783 - val_loss: 5.8755 - val_mean_absolute_error: 5.8755\n",
            "Epoch 87/100\n",
            "875/875 [==============================] - 4s 5ms/step - loss: 5.5870 - mean_absolute_error: 5.5870 - val_loss: 5.3310 - val_mean_absolute_error: 5.3310\n",
            "Epoch 88/100\n",
            "875/875 [==============================] - 4s 5ms/step - loss: 5.5060 - mean_absolute_error: 5.5060 - val_loss: 5.2235 - val_mean_absolute_error: 5.2235\n",
            "Epoch 89/100\n",
            "875/875 [==============================] - 4s 5ms/step - loss: 5.5470 - mean_absolute_error: 5.5470 - val_loss: 5.9800 - val_mean_absolute_error: 5.9800\n",
            "Epoch 90/100\n",
            "875/875 [==============================] - 4s 5ms/step - loss: 5.5458 - mean_absolute_error: 5.5458 - val_loss: 5.2131 - val_mean_absolute_error: 5.2131\n",
            "Epoch 91/100\n",
            "875/875 [==============================] - 4s 5ms/step - loss: 5.5304 - mean_absolute_error: 5.5304 - val_loss: 5.6699 - val_mean_absolute_error: 5.6699\n",
            "Epoch 92/100\n",
            "875/875 [==============================] - 4s 5ms/step - loss: 5.5782 - mean_absolute_error: 5.5782 - val_loss: 5.3063 - val_mean_absolute_error: 5.3063\n",
            "Epoch 93/100\n",
            "875/875 [==============================] - 4s 5ms/step - loss: 5.4995 - mean_absolute_error: 5.4995 - val_loss: 5.4911 - val_mean_absolute_error: 5.4911\n",
            "Epoch 94/100\n",
            "875/875 [==============================] - 4s 5ms/step - loss: 5.5305 - mean_absolute_error: 5.5305 - val_loss: 5.6308 - val_mean_absolute_error: 5.6308\n",
            "Epoch 95/100\n",
            "875/875 [==============================] - 4s 5ms/step - loss: 5.4871 - mean_absolute_error: 5.4871 - val_loss: 5.3031 - val_mean_absolute_error: 5.3031\n",
            "Epoch 96/100\n",
            "875/875 [==============================] - 4s 5ms/step - loss: 5.5774 - mean_absolute_error: 5.5774 - val_loss: 5.2470 - val_mean_absolute_error: 5.2470\n",
            "Epoch 97/100\n",
            "875/875 [==============================] - 4s 5ms/step - loss: 5.5510 - mean_absolute_error: 5.5510 - val_loss: 6.5785 - val_mean_absolute_error: 6.5785\n",
            "Epoch 98/100\n",
            "875/875 [==============================] - 4s 5ms/step - loss: 5.5537 - mean_absolute_error: 5.5537 - val_loss: 5.2507 - val_mean_absolute_error: 5.2507\n",
            "Epoch 99/100\n",
            "875/875 [==============================] - 4s 5ms/step - loss: 5.5016 - mean_absolute_error: 5.5016 - val_loss: 5.2652 - val_mean_absolute_error: 5.2652\n",
            "Epoch 100/100\n",
            "875/875 [==============================] - 4s 5ms/step - loss: 5.5032 - mean_absolute_error: 5.5032 - val_loss: 5.4364 - val_mean_absolute_error: 5.4364\n"
          ],
          "name": "stdout"
        }
      ]
    },
    {
      "cell_type": "code",
      "metadata": {
        "id": "pguYb0dA0Q3Q",
        "colab_type": "code",
        "colab": {
          "base_uri": "https://localhost:8080/",
          "height": 295
        },
        "outputId": "60d55272-be8d-405e-afd8-f79b39f1ce59"
      },
      "source": [
        "import tensorflow.keras\n",
        "from matplotlib import pyplot as plt\n",
        "plt.plot(history.history['loss'])\n",
        "plt.plot(history.history['val_loss'])\n",
        "plt.title('model loss')\n",
        "plt.ylabel('loss')\n",
        "plt.xlabel('epoch')\n",
        "plt.legend(['train', 'val'], loc='upper left')\n",
        "plt.show()"
      ],
      "execution_count": null,
      "outputs": [
        {
          "output_type": "display_data",
          "data": {
            "image/png": "[encoded data removed]",
            "text/plain": [
              "<Figure size 432x288 with 1 Axes>"
            ]
          },
          "metadata": {
            "tags": [],
            "needs_background": "light"
          }
        }
      ]
    },
    {
      "cell_type": "code",
      "metadata": {
        "id": "FniB_NJo2dqb",
        "colab_type": "code",
        "colab": {}
      },
      "source": [
        "NN_model.save('Temp_cold_out_V1.0.h5')"
      ],
      "execution_count": null,
      "outputs": []
    },
    {
      "cell_type": "code",
      "metadata": {
        "id": "8KTakDLD2jxl",
        "colab_type": "code",
        "colab": {
          "base_uri": "https://localhost:8080/",
          "height": 195
        },
        "outputId": "6e037c9b-907d-4998-e755-5f340c5c00ce"
      },
      "source": [
        "X.head()"
      ],
      "execution_count": null,
      "outputs": [
        {
          "output_type": "execute_result",
          "data": {
            "text/html": [
              "<div>\n",
              "<style scoped>\n",
              "    .dataframe tbody tr th:only-of-type {\n",
              "        vertical-align: middle;\n",
              "    }\n",
              "\n",
              "    .dataframe tbody tr th {\n",
              "        vertical-align: top;\n",
              "    }\n",
              "\n",
              "    .dataframe thead th {\n",
              "        text-align: right;\n",
              "    }\n",
              "</style>\n",
              "<table border=\"1\" class=\"dataframe\">\n",
              "  <thead>\n",
              "    <tr style=\"text-align: right;\">\n",
              "      <th></th>\n",
              "      <th>Thi</th>\n",
              "      <th>Tci</th>\n",
              "      <th>Tho</th>\n",
              "      <th>Tco</th>\n",
              "      <th>U</th>\n",
              "      <th>LMTD</th>\n",
              "      <th>Q_Actual</th>\n",
              "      <th>Q_Ideal</th>\n",
              "    </tr>\n",
              "  </thead>\n",
              "  <tbody>\n",
              "    <tr>\n",
              "      <th>0</th>\n",
              "      <td>341</td>\n",
              "      <td>41</td>\n",
              "      <td>222</td>\n",
              "      <td>79</td>\n",
              "      <td>0.487063</td>\n",
              "      <td>219.009203</td>\n",
              "      <td>1636.407875</td>\n",
              "      <td>2261.432388</td>\n",
              "    </tr>\n",
              "    <tr>\n",
              "      <th>1</th>\n",
              "      <td>343</td>\n",
              "      <td>37</td>\n",
              "      <td>236</td>\n",
              "      <td>70</td>\n",
              "      <td>0.797275</td>\n",
              "      <td>234.053544</td>\n",
              "      <td>1614.572356</td>\n",
              "      <td>3956.027692</td>\n",
              "    </tr>\n",
              "    <tr>\n",
              "      <th>2</th>\n",
              "      <td>357</td>\n",
              "      <td>45</td>\n",
              "      <td>239</td>\n",
              "      <td>90</td>\n",
              "      <td>0.795822</td>\n",
              "      <td>228.560336</td>\n",
              "      <td>2165.321282</td>\n",
              "      <td>3856.140107</td>\n",
              "    </tr>\n",
              "    <tr>\n",
              "      <th>3</th>\n",
              "      <td>349</td>\n",
              "      <td>38</td>\n",
              "      <td>241</td>\n",
              "      <td>74</td>\n",
              "      <td>0.899243</td>\n",
              "      <td>237.181401</td>\n",
              "      <td>1297.128127</td>\n",
              "      <td>4521.612602</td>\n",
              "    </tr>\n",
              "    <tr>\n",
              "      <th>4</th>\n",
              "      <td>341</td>\n",
              "      <td>31</td>\n",
              "      <td>220</td>\n",
              "      <td>81</td>\n",
              "      <td>0.583347</td>\n",
              "      <td>222.616162</td>\n",
              "      <td>872.495938</td>\n",
              "      <td>2753.082218</td>\n",
              "    </tr>\n",
              "  </tbody>\n",
              "</table>\n",
              "</div>"
            ],
            "text/plain": [
              "   Thi  Tci  Tho  Tco         U        LMTD     Q_Actual      Q_Ideal\n",
              "0  341   41  222   79  0.487063  219.009203  1636.407875  2261.432388\n",
              "1  343   37  236   70  0.797275  234.053544  1614.572356  3956.027692\n",
              "2  357   45  239   90  0.795822  228.560336  2165.321282  3856.140107\n",
              "3  349   38  241   74  0.899243  237.181401  1297.128127  4521.612602\n",
              "4  341   31  220   81  0.583347  222.616162   872.495938  2753.082218"
            ]
          },
          "metadata": {
            "tags": []
          },
          "execution_count": 46
        }
      ]
    },
    {
      "cell_type": "code",
      "metadata": {
        "id": "8lIqSbzd-SNK",
        "colab_type": "code",
        "colab": {
          "base_uri": "https://localhost:8080/",
          "height": 34
        },
        "outputId": "792419b5-b10f-4944-f56a-d3e48da39e12"
      },
      "source": [
        "NN_model.predict(np.array(X_th.iloc[0]).reshape(1,6))"
      ],
      "execution_count": null,
      "outputs": [
        {
          "output_type": "execute_result",
          "data": {
            "text/plain": [
              "array([[80.231285]], dtype=float32)"
            ]
          },
          "metadata": {
            "tags": []
          },
          "execution_count": 56
        }
      ]
    },
    {
      "cell_type": "code",
      "metadata": {
        "id": "vSLGAiwD-aFt",
        "colab_type": "code",
        "colab": {
          "base_uri": "https://localhost:8080/",
          "height": 52
        },
        "outputId": "1e46e464-fd56-427b-d148-0cef55bd20f7"
      },
      "source": [
        "y_th.iloc[0]"
      ],
      "execution_count": null,
      "outputs": [
        {
          "output_type": "execute_result",
          "data": {
            "text/plain": [
              "Tco    79\n",
              "Name: 0, dtype: int64"
            ]
          },
          "metadata": {
            "tags": []
          },
          "execution_count": 57
        }
      ]
    },
    {
      "cell_type": "code",
      "metadata": {
        "id": "q1bSMxju_HhE",
        "colab_type": "code",
        "colab": {}
      },
      "source": [
        ""
      ],
      "execution_count": null,
      "outputs": []
    }
  ]
}