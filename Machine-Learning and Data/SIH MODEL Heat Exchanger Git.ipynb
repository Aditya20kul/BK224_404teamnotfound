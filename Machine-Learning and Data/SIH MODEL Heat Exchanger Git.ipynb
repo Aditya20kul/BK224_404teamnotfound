{
 "cells": [
  {
   "cell_type": "code",
   "execution_count": 1,
   "metadata": {},
   "outputs": [],
   "source": [
    "import pandas as pd\n",
    "import numpy as np\n",
    "import random\n",
    "from sklearn.multioutput import MultiOutputRegressor\n",
    "from sklearn.ensemble import RandomForestRegressor\n",
    "from sklearn.svm import SVR\n",
    "from sklearn.linear_model import LinearRegression"
   ]
  },
  {
   "cell_type": "code",
   "execution_count": 2,
   "metadata": {},
   "outputs": [],
   "source": [
    "# the dataset is created using the random function by picking the appropriate ranges \n",
    "# The dataset is created using numpy and then converted into dataframe\n",
    "  \n",
    "# LMTD for counter-current flow calculating using the formula\n",
    "#df['LMTD']= ((df['Thi'] - df['Tco']) - (df['Tho'] - df['Tci'])) / np.log((df['Thi'] - df['Tco']) / (df['Tho'] - df['Tci']) )\n",
    "\n",
    "# to handle the anomaly of 0 denominator change Nan with approximate mean values\n",
    "#35.2 was the mean value during first random iteration so we used that\n",
    "\n",
    "#df.LMTD=df['LMTD'].fillna(35.2)\n",
    "\n",
    "#df['Effectiveness'] = abs((df['Tco'] - df['Tci']) / (df['Thi'] - df['Tci']))\n",
    "\n",
    "\n",
    "#A=2.12 # As area is constant it wont affect the efficiency thus we compressed the area to 10 times (Actual we considered is 21)\n",
    "\n",
    "#df['Q_Ideal'] = df['UA']*A* df['LMTD']\n",
    "\n",
    "# as we dont have the actual experimental values \n",
    "#we consider the bias including fouling factors plus environmental conditions and timely detoriation of the equipment\n",
    "#This bias is based on our own intution after thorougly going through multiple research papers \n",
    "#l=[]\n",
    "#for i in range(len(df)):\n",
    " #   l.append(random.uniform(0.55,0.92)* df.Q_Ideal[i])\n",
    "#df['Q_Actual'] =l\n",
    "\n",
    "#df['Efficiency'] = (df['Q_Actual'] / df['Q_Ideal'])*100\n",
    "\n",
    "# Maintenance condition \n",
    " #(1.Our hypothesis for the real-time scenario is either machine is old or has not followed scheduled maintenance properly\n",
    "  #2.Due to hard water or some chemical reactions efficiency is reduced\n",
    "  #3.Due to abrupt faliure in some component efficiency is dropped\n",
    "  #4.Excessive fouling)\n",
    "\n",
    "#l_foul=[]\n",
    "#for i in range(len(df_foul)):\n",
    " #   l_foul.append(random.uniform(0.30,0.53)* df_foul.Q_Ideal[i])\n",
    "#df_foul['Q_Maintenance'] =l_foul\n",
    "\n",
    "#df_foul['Efficiency_Maintenance'] = df_foul['Q_Maintenance'] / df_foul['Q_Ideal']*100\n",
    "\n",
    "#Accidental/Leakage Situation\n",
    "#(1. This can cause due to input faliure\n",
    "# 2.Mixing of the chemicals (like if water and oil mixes it can cause blast\n",
    " #3.Gas or fluid leak due to accidental failure(recent example: Vishakhapatnaam gas leak ) \n",
    "    \n",
    "#    l_accidental=[]\n",
    "#for i in range(len(df_accidental)):\n",
    "#    l_accidental.append(random.uniform(0.1,0.30)* df_accidental.Q_Ideal[i])\n",
    "#df_accidental['Q_Accidental'] =l_accidental\n",
    "\n",
    "#df_accidental['Efficiency_Accidental'] = df_accidental['Q_Accidental'] / df_accidental['Q_Ideal']*100\n"
   ]
  },
  {
   "cell_type": "code",
   "execution_count": 3,
   "metadata": {},
   "outputs": [
    {
     "data": {
      "text/html": [
       "<div>\n",
       "<style scoped>\n",
       "    .dataframe tbody tr th:only-of-type {\n",
       "        vertical-align: middle;\n",
       "    }\n",
       "\n",
       "    .dataframe tbody tr th {\n",
       "        vertical-align: top;\n",
       "    }\n",
       "\n",
       "    .dataframe thead th {\n",
       "        text-align: right;\n",
       "    }\n",
       "</style>\n",
       "<table border=\"1\" class=\"dataframe\">\n",
       "  <thead>\n",
       "    <tr style=\"text-align: right;\">\n",
       "      <th></th>\n",
       "      <th>Thi</th>\n",
       "      <th>Tci</th>\n",
       "      <th>Tho</th>\n",
       "      <th>Tco</th>\n",
       "      <th>UA</th>\n",
       "      <th>LMTD</th>\n",
       "      <th>Effectiveness</th>\n",
       "      <th>Q_Ideal</th>\n",
       "      <th>Q_Actual</th>\n",
       "      <th>Efficiency</th>\n",
       "    </tr>\n",
       "  </thead>\n",
       "  <tbody>\n",
       "    <tr>\n",
       "      <th>0</th>\n",
       "      <td>111</td>\n",
       "      <td>18</td>\n",
       "      <td>70.767326</td>\n",
       "      <td>76.244375</td>\n",
       "      <td>0.194890</td>\n",
       "      <td>43.136556</td>\n",
       "      <td>0.626284</td>\n",
       "      <td>17.758747</td>\n",
       "      <td>15.599118</td>\n",
       "      <td>87.839069</td>\n",
       "    </tr>\n",
       "    <tr>\n",
       "      <th>1</th>\n",
       "      <td>88</td>\n",
       "      <td>18</td>\n",
       "      <td>61.764762</td>\n",
       "      <td>53.297435</td>\n",
       "      <td>0.171421</td>\n",
       "      <td>39.058606</td>\n",
       "      <td>0.504249</td>\n",
       "      <td>14.143527</td>\n",
       "      <td>12.863311</td>\n",
       "      <td>90.948392</td>\n",
       "    </tr>\n",
       "    <tr>\n",
       "      <th>2</th>\n",
       "      <td>90</td>\n",
       "      <td>8</td>\n",
       "      <td>67.385529</td>\n",
       "      <td>57.500574</td>\n",
       "      <td>0.160448</td>\n",
       "      <td>44.599946</td>\n",
       "      <td>0.603666</td>\n",
       "      <td>15.116298</td>\n",
       "      <td>10.306086</td>\n",
       "      <td>68.178637</td>\n",
       "    </tr>\n",
       "    <tr>\n",
       "      <th>3</th>\n",
       "      <td>122</td>\n",
       "      <td>28</td>\n",
       "      <td>74.697397</td>\n",
       "      <td>74.316927</td>\n",
       "      <td>0.184977</td>\n",
       "      <td>47.188520</td>\n",
       "      <td>0.492733</td>\n",
       "      <td>18.438738</td>\n",
       "      <td>10.707614</td>\n",
       "      <td>58.071292</td>\n",
       "    </tr>\n",
       "    <tr>\n",
       "      <th>4</th>\n",
       "      <td>118</td>\n",
       "      <td>30</td>\n",
       "      <td>56.295665</td>\n",
       "      <td>56.447936</td>\n",
       "      <td>0.177215</td>\n",
       "      <td>41.454741</td>\n",
       "      <td>0.300545</td>\n",
       "      <td>15.518627</td>\n",
       "      <td>12.103090</td>\n",
       "      <td>77.990724</td>\n",
       "    </tr>\n",
       "  </tbody>\n",
       "</table>\n",
       "</div>"
      ],
      "text/plain": [
       "   Thi  Tci        Tho        Tco        UA       LMTD  Effectiveness  \\\n",
       "0  111   18  70.767326  76.244375  0.194890  43.136556       0.626284   \n",
       "1   88   18  61.764762  53.297435  0.171421  39.058606       0.504249   \n",
       "2   90    8  67.385529  57.500574  0.160448  44.599946       0.603666   \n",
       "3  122   28  74.697397  74.316927  0.184977  47.188520       0.492733   \n",
       "4  118   30  56.295665  56.447936  0.177215  41.454741       0.300545   \n",
       "\n",
       "     Q_Ideal   Q_Actual  Efficiency  \n",
       "0  17.758747  15.599118   87.839069  \n",
       "1  14.143527  12.863311   90.948392  \n",
       "2  15.116298  10.306086   68.178637  \n",
       "3  18.438738  10.707614   58.071292  \n",
       "4  15.518627  12.103090   77.990724  "
      ]
     },
     "execution_count": 3,
     "metadata": {},
     "output_type": "execute_result"
    }
   ],
   "source": [
    "df=pd.read_excel('HED_normal.xls')\n",
    "df.head()"
   ]
  },
  {
   "cell_type": "code",
   "execution_count": null,
   "metadata": {},
   "outputs": [],
   "source": []
  },
  {
   "cell_type": "code",
   "execution_count": 4,
   "metadata": {},
   "outputs": [],
   "source": [
    "X=df[['Q_Actual','Q_Ideal']]\n",
    "y=df.Efficiency.values.reshape(-1,1)"
   ]
  },
  {
   "cell_type": "code",
   "execution_count": 5,
   "metadata": {},
   "outputs": [
    {
     "name": "stderr",
     "output_type": "stream",
     "text": [
      "C:\\Users\\kedar\\Anaconda3.7\\lib\\site-packages\\sklearn\\utils\\validation.py:73: DataConversionWarning: A column-vector y was passed when a 1d array was expected. Please change the shape of y to (n_samples, ), for example using ravel().\n",
      "  return f(**kwargs)\n"
     ]
    },
    {
     "data": {
      "text/plain": [
       "93.9547830933897"
      ]
     },
     "execution_count": 5,
     "metadata": {},
     "output_type": "execute_result"
    }
   ],
   "source": [
    "from sklearn.svm import SVR\n",
    "normal_svr=SVR(kernel='rbf')\n",
    "normal_svr.fit(X,y)\n",
    "normal_svr.score(X,y)*100"
   ]
  },
  {
   "cell_type": "code",
   "execution_count": 6,
   "metadata": {},
   "outputs": [
    {
     "data": {
      "text/plain": [
       "array([76.17761518])"
      ]
     },
     "execution_count": 6,
     "metadata": {},
     "output_type": "execute_result"
    }
   ],
   "source": [
    "#this function is rendered in our frontend model to demonstrate the efficiency\n",
    "#the purpose behind using SVR is that it is best suited for small and non-linear data\n",
    "normal_svr.predict([[109.072635,159.875254]])"
   ]
  },
  {
   "cell_type": "code",
   "execution_count": 7,
   "metadata": {},
   "outputs": [
    {
     "data": {
      "text/plain": [
       "88.78523544344132"
      ]
     },
     "execution_count": 7,
     "metadata": {},
     "output_type": "execute_result"
    }
   ],
   "source": [
    "# Random Forest follows strict Decision boundries to get the better results we have purposefully used it \n",
    "rf=RandomForestRegressor()\n",
    "X_N=df[['UA','LMTD','Efficiency']]\n",
    "y_N=df[['Tho','Tco']]\n",
    "# to output two values we have used multi-regressor\n",
    "wrap = MultiOutputRegressor(rf)\n",
    "wrap.fit(X_N,y_N)\n",
    "wrap.score(X_N,y_N)*100\n",
    "#df.head()"
   ]
  },
  {
   "cell_type": "code",
   "execution_count": 8,
   "metadata": {},
   "outputs": [
    {
     "data": {
      "text/plain": [
       "array([[59.32200756, 46.03064527]])"
      ]
     },
     "execution_count": 8,
     "metadata": {},
     "output_type": "execute_result"
    }
   ],
   "source": [
    "#This predicts the Temperature(out) for hot and cold \n",
    "#This predict function is called by an API\n",
    "#This prediction will help you to confirm the asset performance based on efficiency\n",
    "wrap.predict([[0.160,44.19,61.4]])"
   ]
  },
  {
   "cell_type": "code",
   "execution_count": 24,
   "metadata": {},
   "outputs": [
    {
     "data": {
      "text/html": [
       "<div>\n",
       "<style scoped>\n",
       "    .dataframe tbody tr th:only-of-type {\n",
       "        vertical-align: middle;\n",
       "    }\n",
       "\n",
       "    .dataframe tbody tr th {\n",
       "        vertical-align: top;\n",
       "    }\n",
       "\n",
       "    .dataframe thead th {\n",
       "        text-align: right;\n",
       "    }\n",
       "</style>\n",
       "<table border=\"1\" class=\"dataframe\">\n",
       "  <thead>\n",
       "    <tr style=\"text-align: right;\">\n",
       "      <th></th>\n",
       "      <th>Thi</th>\n",
       "      <th>Tci</th>\n",
       "      <th>Tho</th>\n",
       "      <th>Tco</th>\n",
       "      <th>UA</th>\n",
       "      <th>LMTD</th>\n",
       "      <th>Effectiveness</th>\n",
       "      <th>Q_Ideal</th>\n",
       "      <th>Q_Actual</th>\n",
       "      <th>Efficiency</th>\n",
       "    </tr>\n",
       "  </thead>\n",
       "  <tbody>\n",
       "    <tr>\n",
       "      <th>0</th>\n",
       "      <td>111</td>\n",
       "      <td>18</td>\n",
       "      <td>70.767326</td>\n",
       "      <td>76.244375</td>\n",
       "      <td>0.194890</td>\n",
       "      <td>43.136556</td>\n",
       "      <td>0.626284</td>\n",
       "      <td>17.758747</td>\n",
       "      <td>15.599118</td>\n",
       "      <td>87.839069</td>\n",
       "    </tr>\n",
       "    <tr>\n",
       "      <th>1</th>\n",
       "      <td>88</td>\n",
       "      <td>18</td>\n",
       "      <td>61.764762</td>\n",
       "      <td>53.297435</td>\n",
       "      <td>0.171421</td>\n",
       "      <td>39.058606</td>\n",
       "      <td>0.504249</td>\n",
       "      <td>14.143527</td>\n",
       "      <td>12.863311</td>\n",
       "      <td>90.948392</td>\n",
       "    </tr>\n",
       "    <tr>\n",
       "      <th>2</th>\n",
       "      <td>90</td>\n",
       "      <td>8</td>\n",
       "      <td>67.385529</td>\n",
       "      <td>57.500574</td>\n",
       "      <td>0.160448</td>\n",
       "      <td>44.599946</td>\n",
       "      <td>0.603666</td>\n",
       "      <td>15.116298</td>\n",
       "      <td>10.306086</td>\n",
       "      <td>68.178637</td>\n",
       "    </tr>\n",
       "    <tr>\n",
       "      <th>3</th>\n",
       "      <td>122</td>\n",
       "      <td>28</td>\n",
       "      <td>74.697397</td>\n",
       "      <td>74.316927</td>\n",
       "      <td>0.184977</td>\n",
       "      <td>47.188520</td>\n",
       "      <td>0.492733</td>\n",
       "      <td>18.438738</td>\n",
       "      <td>10.707614</td>\n",
       "      <td>58.071292</td>\n",
       "    </tr>\n",
       "    <tr>\n",
       "      <th>4</th>\n",
       "      <td>118</td>\n",
       "      <td>30</td>\n",
       "      <td>56.295665</td>\n",
       "      <td>56.447936</td>\n",
       "      <td>0.177215</td>\n",
       "      <td>41.454741</td>\n",
       "      <td>0.300545</td>\n",
       "      <td>15.518627</td>\n",
       "      <td>12.103090</td>\n",
       "      <td>77.990724</td>\n",
       "    </tr>\n",
       "  </tbody>\n",
       "</table>\n",
       "</div>"
      ],
      "text/plain": [
       "   Thi  Tci        Tho        Tco        UA       LMTD  Effectiveness  \\\n",
       "0  111   18  70.767326  76.244375  0.194890  43.136556       0.626284   \n",
       "1   88   18  61.764762  53.297435  0.171421  39.058606       0.504249   \n",
       "2   90    8  67.385529  57.500574  0.160448  44.599946       0.603666   \n",
       "3  122   28  74.697397  74.316927  0.184977  47.188520       0.492733   \n",
       "4  118   30  56.295665  56.447936  0.177215  41.454741       0.300545   \n",
       "\n",
       "     Q_Ideal   Q_Actual  Efficiency  \n",
       "0  17.758747  15.599118   87.839069  \n",
       "1  14.143527  12.863311   90.948392  \n",
       "2  15.116298  10.306086   68.178637  \n",
       "3  18.438738  10.707614   58.071292  \n",
       "4  15.518627  12.103090   77.990724  "
      ]
     },
     "execution_count": 24,
     "metadata": {},
     "output_type": "execute_result"
    }
   ],
   "source": [
    "#df.head()"
   ]
  },
  {
   "cell_type": "code",
   "execution_count": null,
   "metadata": {},
   "outputs": [],
   "source": []
  },
  {
   "cell_type": "markdown",
   "metadata": {},
   "source": [
    " Maintenance condition \n",
    " (1.Our hypothesis for the real-time scenario is either machine is old or has not followed scheduled maintenance properly\n",
    "  2.Due to hard water or some chemical reactions efficiency is reduced\n",
    "  3.Due to abrupt faliure in some component efficiency is dropped\n",
    "  4.Excessive fouling)"
   ]
  },
  {
   "cell_type": "markdown",
   "metadata": {},
   "source": []
  },
  {
   "cell_type": "code",
   "execution_count": null,
   "metadata": {},
   "outputs": [],
   "source": []
  },
  {
   "cell_type": "code",
   "execution_count": 10,
   "metadata": {},
   "outputs": [],
   "source": [
    "df_foul = pd.read_excel('HED_maintenance .xls')"
   ]
  },
  {
   "cell_type": "code",
   "execution_count": 11,
   "metadata": {},
   "outputs": [],
   "source": [
    "X=df_foul[['Q_Maintenance','Q_Ideal']]\n",
    "y=df_foul.Efficiency_Maintenance.values.reshape(-1,1)"
   ]
  },
  {
   "cell_type": "code",
   "execution_count": 12,
   "metadata": {},
   "outputs": [
    {
     "name": "stderr",
     "output_type": "stream",
     "text": [
      "C:\\Users\\kedar\\Anaconda3.7\\lib\\site-packages\\sklearn\\utils\\validation.py:73: DataConversionWarning: A column-vector y was passed when a 1d array was expected. Please change the shape of y to (n_samples, ), for example using ravel().\n",
      "  return f(**kwargs)\n"
     ]
    },
    {
     "data": {
      "text/plain": [
       "92.29260251375457"
      ]
     },
     "execution_count": 12,
     "metadata": {},
     "output_type": "execute_result"
    }
   ],
   "source": [
    "svr_foul=SVR(kernel='rbf')\n",
    "svr_foul.fit(X,y)\n",
    "svr_foul.score(X,y)*100"
   ]
  },
  {
   "cell_type": "code",
   "execution_count": 13,
   "metadata": {},
   "outputs": [
    {
     "data": {
      "text/plain": [
       "array([42.61950543])"
      ]
     },
     "execution_count": 13,
     "metadata": {},
     "output_type": "execute_result"
    }
   ],
   "source": [
    "svr_foul.predict([[172.533,374.116]])"
   ]
  },
  {
   "cell_type": "code",
   "execution_count": 14,
   "metadata": {},
   "outputs": [
    {
     "data": {
      "text/plain": [
       "88.62965259915069"
      ]
     },
     "execution_count": 14,
     "metadata": {},
     "output_type": "execute_result"
    }
   ],
   "source": [
    "# Random Forest follows strict Decision boundries to get the better results we have purposefully used it \n",
    "rf=RandomForestRegressor()\n",
    "X_M=df_foul[['UA','LMTD','Efficiency_Maintenance']]\n",
    "y_M=df_foul[['Tho','Tco']]\n",
    "wrap_M = MultiOutputRegressor(rf)\n",
    "wrap_M.fit(X_M,y_M)\n",
    "wrap_M.score(X_M,y_M)*100"
   ]
  },
  {
   "cell_type": "code",
   "execution_count": 15,
   "metadata": {},
   "outputs": [
    {
     "data": {
      "text/plain": [
       "array([[65.61490685, 51.27954514]])"
      ]
     },
     "execution_count": 15,
     "metadata": {},
     "output_type": "execute_result"
    }
   ],
   "source": [
    "#Temperature out prediction for hot and cold fluid\n",
    "#This prediction will help you to confirm the asset performance based on efficiency\n",
    "#This predict function is called by an API\n",
    "wrap_M.predict([[0.185,47.19,36.797]])"
   ]
  },
  {
   "cell_type": "code",
   "execution_count": 16,
   "metadata": {},
   "outputs": [],
   "source": [
    "#df_foul.head()"
   ]
  },
  {
   "cell_type": "code",
   "execution_count": null,
   "metadata": {},
   "outputs": [],
   "source": []
  },
  {
   "cell_type": "markdown",
   "metadata": {},
   "source": [
    "Accidental/Leakage Situation\n",
    "(1. This can cause due to input faliure\n",
    " 2.Mixing of the chemicals (like if water and oil mixes it can cause blast\n",
    " 3.Gas or fluid leak due to accidental failure(recent example: Vishakhapatnaam gas leak ) "
   ]
  },
  {
   "cell_type": "code",
   "execution_count": null,
   "metadata": {},
   "outputs": [],
   "source": []
  },
  {
   "cell_type": "code",
   "execution_count": 17,
   "metadata": {},
   "outputs": [],
   "source": [
    "df_accidental = pd.read_excel('HED_accidental.xls')\n",
    "#df_accidental.head()"
   ]
  },
  {
   "cell_type": "code",
   "execution_count": 18,
   "metadata": {},
   "outputs": [],
   "source": [
    "X=df_accidental[['Q_Accidental','Q_Ideal']]\n",
    "y=df_accidental.Efficiency_Accidental.values.reshape(-1,1)"
   ]
  },
  {
   "cell_type": "code",
   "execution_count": 19,
   "metadata": {},
   "outputs": [
    {
     "name": "stderr",
     "output_type": "stream",
     "text": [
      "C:\\Users\\kedar\\Anaconda3.7\\lib\\site-packages\\sklearn\\utils\\validation.py:73: DataConversionWarning: A column-vector y was passed when a 1d array was expected. Please change the shape of y to (n_samples, ), for example using ravel().\n",
      "  return f(**kwargs)\n"
     ]
    },
    {
     "data": {
      "text/plain": [
       "91.10186719765248"
      ]
     },
     "execution_count": 19,
     "metadata": {},
     "output_type": "execute_result"
    }
   ],
   "source": [
    "svr_accidental=SVR(kernel='rbf')\n",
    "svr_accidental.fit(X,y)\n",
    "svr_accidental.score(X,y)*100"
   ]
  },
  {
   "cell_type": "code",
   "execution_count": 20,
   "metadata": {},
   "outputs": [],
   "source": [
    "#df_accidental.head()"
   ]
  },
  {
   "cell_type": "code",
   "execution_count": 21,
   "metadata": {},
   "outputs": [
    {
     "data": {
      "text/plain": [
       "array([19.45452893])"
      ]
     },
     "execution_count": 21,
     "metadata": {},
     "output_type": "execute_result"
    }
   ],
   "source": [
    "#Predicts accidental efficiency\n",
    "svr_accidental.predict([[52.85,327.7]])"
   ]
  },
  {
   "cell_type": "code",
   "execution_count": 22,
   "metadata": {},
   "outputs": [
    {
     "data": {
      "text/plain": [
       "88.6981040346974"
      ]
     },
     "execution_count": 22,
     "metadata": {},
     "output_type": "execute_result"
    }
   ],
   "source": [
    "rf=RandomForestRegressor()\n",
    "X_A=df_accidental[['UA','LMTD','Efficiency_Accidental']]\n",
    "y_A=df_accidental[['Tho','Tco']]\n",
    "wrap_A = MultiOutputRegressor(rf)\n",
    "wrap_A.fit(X_A,y_A)\n",
    "wrap_A.score(X_A,y_A)*100"
   ]
  },
  {
   "cell_type": "code",
   "execution_count": 23,
   "metadata": {},
   "outputs": [
    {
     "data": {
      "text/plain": [
       "array([[60.48362296, 52.76018791]])"
      ]
     },
     "execution_count": 23,
     "metadata": {},
     "output_type": "execute_result"
    }
   ],
   "source": [
    "wrap_A.predict([[0.185,47.19,19.894]])"
   ]
  },
  {
   "cell_type": "code",
   "execution_count": null,
   "metadata": {},
   "outputs": [],
   "source": []
  }
 ],
 "metadata": {
  "kernelspec": {
   "display_name": "Python 3",
   "language": "python",
   "name": "python3"
  },
  "language_info": {
   "codemirror_mode": {
    "name": "ipython",
    "version": 3
   },
   "file_extension": ".py",
   "mimetype": "text/x-python",
   "name": "python",
   "nbconvert_exporter": "python",
   "pygments_lexer": "ipython3",
   "version": "3.6.5"
  }
 },
 "nbformat": 4,
 "nbformat_minor": 2
}
