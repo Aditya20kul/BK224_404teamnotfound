{
  "nbformat": 4,
  "nbformat_minor": 0,
  "metadata": {
    "colab": {
      "name": "SIH ANN",
      "provenance": [],
      "collapsed_sections": []
    },
    "kernelspec": {
      "name": "python3",
      "display_name": "Python 3"
    }
  },
  "cells": [
    {
      "cell_type": "code",
      "metadata": {
        "id": "2dlziSRgygXW",
        "colab_type": "code",
        "colab": {
          "base_uri": "https://localhost:8080/",
          "height": 54
        },
        "outputId": "f6f00144-4932-4c29-f20e-c0c65a2c8bde"
      },
      "source": [
        "from google.colab import drive\n",
        "drive.mount('/content/drive')"
      ],
      "execution_count": 3,
      "outputs": [
        {
          "output_type": "stream",
          "text": [
            "Drive already mounted at /content/drive; to attempt to forcibly remount, call drive.mount(\"/content/drive\", force_remount=True).\n"
          ],
          "name": "stdout"
        }
      ]
    },
    {
      "cell_type": "code",
      "metadata": {
        "id": "5KG2jc3hzCSQ",
        "colab_type": "code",
        "colab": {}
      },
      "source": [
        "from keras.models  import Sequential\n",
        "from keras.layers import Dense\n",
        "from keras.callbacks import ModelCheckpoint \n",
        "import pandas as pd"
      ],
      "execution_count": 6,
      "outputs": []
    },
    {
      "cell_type": "code",
      "metadata": {
        "id": "NzwlQXNizqe-",
        "colab_type": "code",
        "colab": {
          "base_uri": "https://localhost:8080/",
          "height": 34
        },
        "outputId": "944e88d9-f01b-42af-ca1e-aa23fadbfef0"
      },
      "source": [
        "%cd drive/My\\ Drive/SIH"
      ],
      "execution_count": 10,
      "outputs": [
        {
          "output_type": "stream",
          "text": [
            "/content/drive/My Drive/SIH\n"
          ],
          "name": "stdout"
        }
      ]
    },
    {
      "cell_type": "code",
      "metadata": {
        "id": "TbhY0XvNzxic",
        "colab_type": "code",
        "colab": {
          "base_uri": "https://localhost:8080/",
          "height": 34
        },
        "outputId": "974a2f9d-5bc3-4999-a2d4-ea13ececc150"
      },
      "source": [
        "df= pd.read_excel('ANN_sih_Data.xls')\n",
        "df.shape"
      ],
      "execution_count": 13,
      "outputs": [
        {
          "output_type": "execute_result",
          "data": {
            "text/plain": [
              "(40000, 10)"
            ]
          },
          "metadata": {
            "tags": []
          },
          "execution_count": 13
        }
      ]
    },
    {
      "cell_type": "code",
      "metadata": {
        "id": "dI9_DqxI0FFb",
        "colab_type": "code",
        "colab": {
          "base_uri": "https://localhost:8080/",
          "height": 34
        },
        "outputId": "0aef9039-67ed-49ac-cba2-a091f129777e"
      },
      "source": [
        "train=df[['Thi','Tho','Tco','Tci','U','Q_Ideal','LMTD']]\n",
        "y=df[['Efficiency']]\n",
        "print(train.shape[1])"
      ],
      "execution_count": 39,
      "outputs": [
        {
          "output_type": "stream",
          "text": [
            "7\n"
          ],
          "name": "stdout"
        }
      ]
    },
    {
      "cell_type": "code",
      "metadata": {
        "id": "S342v4SqytY_",
        "colab_type": "code",
        "colab": {
          "base_uri": "https://localhost:8080/",
          "height": 369
        },
        "outputId": "aaac8f09-eda6-4634-f93d-eec443fd124f"
      },
      "source": [
        "NN_model = Sequential()\n",
        "\n",
        "# The Input Layer :\n",
        "NN_model.add(Dense(256, kernel_initializer='normal',input_dim=7, activation='relu'))\n",
        "\n",
        "# The Hidden Layers :\n",
        "NN_model.add(Dense(256, kernel_initializer='normal',activation='relu'))\n",
        "NN_model.add(Dense(256, kernel_initializer='normal',activation='relu'))\n",
        "NN_model.add(Dense(128, kernel_initializer='normal',activation='relu'))\n",
        "NN_model.add(Dense(64, kernel_initializer='normal',activation='relu'))\n",
        "\n",
        "# The Output Layer :\n",
        "NN_model.add(Dense(1, kernel_initializer='normal',activation='linear'))\n",
        "\n",
        "# Compile the network :\n",
        "NN_model.compile(loss='mean_absolute_error', optimizer='adam', metrics=['mean_absolute_error'])\n",
        "NN_model.summary()"
      ],
      "execution_count": 72,
      "outputs": [
        {
          "output_type": "stream",
          "text": [
            "Model: \"sequential_18\"\n",
            "_________________________________________________________________\n",
            "Layer (type)                 Output Shape              Param #   \n",
            "=================================================================\n",
            "dense_70 (Dense)             (None, 256)               2048      \n",
            "_________________________________________________________________\n",
            "dense_71 (Dense)             (None, 256)               65792     \n",
            "_________________________________________________________________\n",
            "dense_72 (Dense)             (None, 256)               65792     \n",
            "_________________________________________________________________\n",
            "dense_73 (Dense)             (None, 128)               32896     \n",
            "_________________________________________________________________\n",
            "dense_74 (Dense)             (None, 64)                8256      \n",
            "_________________________________________________________________\n",
            "dense_75 (Dense)             (None, 1)                 65        \n",
            "=================================================================\n",
            "Total params: 174,849\n",
            "Trainable params: 174,849\n",
            "Non-trainable params: 0\n",
            "_________________________________________________________________\n"
          ],
          "name": "stdout"
        }
      ]
    },
    {
      "cell_type": "code",
      "metadata": {
        "id": "wnrGaOAM0J3h",
        "colab_type": "code",
        "colab": {
          "base_uri": "https://localhost:8080/",
          "height": 1000
        },
        "outputId": "7252f2dc-0701-42ab-f309-00c02c09f632"
      },
      "source": [
        "checkpoint_name = 'Train 2 Weights-{epoch:03d}--{val_loss:.5f}.hdf5' \n",
        "checkpoint = ModelCheckpoint(checkpoint_name, monitor='val_loss', verbose = 1, save_best_only = True, mode ='auto')\n",
        "callbacks_list = [checkpoint]\n",
        "history = NN_model.fit(train,y,epochs=200, batch_size=32, validation_split = 0.2, callbacks=callbacks_list)"
      ],
      "execution_count": 73,
      "outputs": [
        {
          "output_type": "stream",
          "text": [
            "Train on 32000 samples, validate on 8000 samples\n",
            "Epoch 1/200\n",
            "32000/32000 [==============================] - 4s 137us/step - loss: 20.4403 - mean_absolute_error: 20.4403 - accuracy: 0.0000e+00 - val_loss: 19.8962 - val_mean_absolute_error: 19.8962 - val_accuracy: 0.0000e+00\n",
            "\n",
            "Epoch 00001: val_loss improved from inf to 19.89624, saving model to Train 2 Weights-001--19.89624.hdf5\n",
            "Epoch 2/200\n",
            "32000/32000 [==============================] - 4s 133us/step - loss: 20.0265 - mean_absolute_error: 20.0265 - accuracy: 0.0000e+00 - val_loss: 20.0272 - val_mean_absolute_error: 20.0272 - val_accuracy: 0.0000e+00\n",
            "\n",
            "Epoch 00002: val_loss did not improve from 19.89624\n",
            "Epoch 3/200\n",
            "32000/32000 [==============================] - 4s 135us/step - loss: 19.9318 - mean_absolute_error: 19.9317 - accuracy: 0.0000e+00 - val_loss: 19.7796 - val_mean_absolute_error: 19.7796 - val_accuracy: 0.0000e+00\n",
            "\n",
            "Epoch 00003: val_loss improved from 19.89624 to 19.77960, saving model to Train 2 Weights-003--19.77960.hdf5\n",
            "Epoch 4/200\n",
            "32000/32000 [==============================] - 4s 132us/step - loss: 19.8592 - mean_absolute_error: 19.8592 - accuracy: 0.0000e+00 - val_loss: 19.7704 - val_mean_absolute_error: 19.7704 - val_accuracy: 0.0000e+00\n",
            "\n",
            "Epoch 00004: val_loss improved from 19.77960 to 19.77042, saving model to Train 2 Weights-004--19.77042.hdf5\n",
            "Epoch 5/200\n",
            "32000/32000 [==============================] - 4s 132us/step - loss: 19.8148 - mean_absolute_error: 19.8148 - accuracy: 0.0000e+00 - val_loss: 20.1111 - val_mean_absolute_error: 20.1111 - val_accuracy: 0.0000e+00\n",
            "\n",
            "Epoch 00005: val_loss did not improve from 19.77042\n",
            "Epoch 6/200\n",
            "32000/32000 [==============================] - 4s 131us/step - loss: 19.8466 - mean_absolute_error: 19.8466 - accuracy: 0.0000e+00 - val_loss: 19.8985 - val_mean_absolute_error: 19.8985 - val_accuracy: 0.0000e+00\n",
            "\n",
            "Epoch 00006: val_loss did not improve from 19.77042\n",
            "Epoch 7/200\n",
            "32000/32000 [==============================] - 4s 130us/step - loss: 19.8097 - mean_absolute_error: 19.8097 - accuracy: 0.0000e+00 - val_loss: 19.7568 - val_mean_absolute_error: 19.7568 - val_accuracy: 0.0000e+00\n",
            "\n",
            "Epoch 00007: val_loss improved from 19.77042 to 19.75678, saving model to Train 2 Weights-007--19.75678.hdf5\n",
            "Epoch 8/200\n",
            "32000/32000 [==============================] - 4s 130us/step - loss: 19.7465 - mean_absolute_error: 19.7465 - accuracy: 0.0000e+00 - val_loss: 19.7588 - val_mean_absolute_error: 19.7588 - val_accuracy: 0.0000e+00\n",
            "\n",
            "Epoch 00008: val_loss did not improve from 19.75678\n",
            "Epoch 9/200\n",
            "32000/32000 [==============================] - 4s 131us/step - loss: 19.7543 - mean_absolute_error: 19.7543 - accuracy: 0.0000e+00 - val_loss: 19.7266 - val_mean_absolute_error: 19.7266 - val_accuracy: 0.0000e+00\n",
            "\n",
            "Epoch 00009: val_loss improved from 19.75678 to 19.72657, saving model to Train 2 Weights-009--19.72657.hdf5\n",
            "Epoch 10/200\n",
            "32000/32000 [==============================] - 4s 134us/step - loss: 19.7388 - mean_absolute_error: 19.7388 - accuracy: 0.0000e+00 - val_loss: 19.8524 - val_mean_absolute_error: 19.8524 - val_accuracy: 0.0000e+00\n",
            "\n",
            "Epoch 00010: val_loss did not improve from 19.72657\n",
            "Epoch 11/200\n",
            "32000/32000 [==============================] - 4s 138us/step - loss: 19.7467 - mean_absolute_error: 19.7467 - accuracy: 0.0000e+00 - val_loss: 19.8077 - val_mean_absolute_error: 19.8077 - val_accuracy: 0.0000e+00\n",
            "\n",
            "Epoch 00011: val_loss did not improve from 19.72657\n",
            "Epoch 12/200\n",
            "32000/32000 [==============================] - 4s 137us/step - loss: 19.6862 - mean_absolute_error: 19.6862 - accuracy: 0.0000e+00 - val_loss: 19.7029 - val_mean_absolute_error: 19.7029 - val_accuracy: 0.0000e+00\n",
            "\n",
            "Epoch 00012: val_loss improved from 19.72657 to 19.70294, saving model to Train 2 Weights-012--19.70294.hdf5\n",
            "Epoch 13/200\n",
            "32000/32000 [==============================] - 4s 131us/step - loss: 19.6941 - mean_absolute_error: 19.6941 - accuracy: 0.0000e+00 - val_loss: 19.7120 - val_mean_absolute_error: 19.7120 - val_accuracy: 0.0000e+00\n",
            "\n",
            "Epoch 00013: val_loss did not improve from 19.70294\n",
            "Epoch 14/200\n",
            "32000/32000 [==============================] - 4s 137us/step - loss: 19.7170 - mean_absolute_error: 19.7171 - accuracy: 0.0000e+00 - val_loss: 19.9577 - val_mean_absolute_error: 19.9577 - val_accuracy: 0.0000e+00\n",
            "\n",
            "Epoch 00014: val_loss did not improve from 19.70294\n",
            "Epoch 15/200\n",
            "32000/32000 [==============================] - 4s 132us/step - loss: 19.6561 - mean_absolute_error: 19.6561 - accuracy: 0.0000e+00 - val_loss: 19.6787 - val_mean_absolute_error: 19.6787 - val_accuracy: 0.0000e+00\n",
            "\n",
            "Epoch 00015: val_loss improved from 19.70294 to 19.67875, saving model to Train 2 Weights-015--19.67875.hdf5\n",
            "Epoch 16/200\n",
            "32000/32000 [==============================] - 4s 139us/step - loss: 19.7095 - mean_absolute_error: 19.7095 - accuracy: 0.0000e+00 - val_loss: 19.7066 - val_mean_absolute_error: 19.7066 - val_accuracy: 0.0000e+00\n",
            "\n",
            "Epoch 00016: val_loss did not improve from 19.67875\n",
            "Epoch 17/200\n",
            "32000/32000 [==============================] - 4s 137us/step - loss: 19.6242 - mean_absolute_error: 19.6242 - accuracy: 0.0000e+00 - val_loss: 19.7712 - val_mean_absolute_error: 19.7712 - val_accuracy: 0.0000e+00\n",
            "\n",
            "Epoch 00017: val_loss did not improve from 19.67875\n",
            "Epoch 18/200\n",
            "32000/32000 [==============================] - 4s 136us/step - loss: 19.6385 - mean_absolute_error: 19.6385 - accuracy: 0.0000e+00 - val_loss: 19.8117 - val_mean_absolute_error: 19.8117 - val_accuracy: 0.0000e+00\n",
            "\n",
            "Epoch 00018: val_loss did not improve from 19.67875\n",
            "Epoch 19/200\n",
            "32000/32000 [==============================] - 4s 133us/step - loss: 19.6282 - mean_absolute_error: 19.6282 - accuracy: 0.0000e+00 - val_loss: 19.7771 - val_mean_absolute_error: 19.7771 - val_accuracy: 0.0000e+00\n",
            "\n",
            "Epoch 00019: val_loss did not improve from 19.67875\n",
            "Epoch 20/200\n",
            "32000/32000 [==============================] - 4s 133us/step - loss: 19.6206 - mean_absolute_error: 19.6206 - accuracy: 0.0000e+00 - val_loss: 19.6737 - val_mean_absolute_error: 19.6737 - val_accuracy: 0.0000e+00\n",
            "\n",
            "Epoch 00020: val_loss improved from 19.67875 to 19.67372, saving model to Train 2 Weights-020--19.67372.hdf5\n",
            "Epoch 21/200\n",
            "32000/32000 [==============================] - 4s 133us/step - loss: 19.6163 - mean_absolute_error: 19.6163 - accuracy: 0.0000e+00 - val_loss: 20.0774 - val_mean_absolute_error: 20.0774 - val_accuracy: 0.0000e+00\n",
            "\n",
            "Epoch 00021: val_loss did not improve from 19.67372\n",
            "Epoch 22/200\n",
            "32000/32000 [==============================] - 4s 131us/step - loss: 19.5964 - mean_absolute_error: 19.5964 - accuracy: 0.0000e+00 - val_loss: 19.8051 - val_mean_absolute_error: 19.8051 - val_accuracy: 0.0000e+00\n",
            "\n",
            "Epoch 00022: val_loss did not improve from 19.67372\n",
            "Epoch 23/200\n",
            "32000/32000 [==============================] - 5s 142us/step - loss: 19.5779 - mean_absolute_error: 19.5779 - accuracy: 0.0000e+00 - val_loss: 19.5985 - val_mean_absolute_error: 19.5985 - val_accuracy: 0.0000e+00\n",
            "\n",
            "Epoch 00023: val_loss improved from 19.67372 to 19.59847, saving model to Train 2 Weights-023--19.59847.hdf5\n",
            "Epoch 24/200\n",
            "32000/32000 [==============================] - 4s 134us/step - loss: 19.5737 - mean_absolute_error: 19.5737 - accuracy: 0.0000e+00 - val_loss: 19.5832 - val_mean_absolute_error: 19.5832 - val_accuracy: 0.0000e+00\n",
            "\n",
            "Epoch 00024: val_loss improved from 19.59847 to 19.58316, saving model to Train 2 Weights-024--19.58316.hdf5\n",
            "Epoch 25/200\n",
            "32000/32000 [==============================] - 4s 129us/step - loss: 19.5471 - mean_absolute_error: 19.5471 - accuracy: 0.0000e+00 - val_loss: 19.8545 - val_mean_absolute_error: 19.8545 - val_accuracy: 0.0000e+00\n",
            "\n",
            "Epoch 00025: val_loss did not improve from 19.58316\n",
            "Epoch 26/200\n",
            "32000/32000 [==============================] - 4s 131us/step - loss: 19.5044 - mean_absolute_error: 19.5044 - accuracy: 0.0000e+00 - val_loss: 19.5650 - val_mean_absolute_error: 19.5650 - val_accuracy: 0.0000e+00\n",
            "\n",
            "Epoch 00026: val_loss improved from 19.58316 to 19.56498, saving model to Train 2 Weights-026--19.56498.hdf5\n",
            "Epoch 27/200\n",
            "32000/32000 [==============================] - 4s 131us/step - loss: 19.5032 - mean_absolute_error: 19.5032 - accuracy: 0.0000e+00 - val_loss: 19.5077 - val_mean_absolute_error: 19.5077 - val_accuracy: 0.0000e+00\n",
            "\n",
            "Epoch 00027: val_loss improved from 19.56498 to 19.50767, saving model to Train 2 Weights-027--19.50767.hdf5\n",
            "Epoch 28/200\n",
            "32000/32000 [==============================] - 4s 128us/step - loss: 19.4445 - mean_absolute_error: 19.4445 - accuracy: 0.0000e+00 - val_loss: 19.5124 - val_mean_absolute_error: 19.5124 - val_accuracy: 0.0000e+00\n",
            "\n",
            "Epoch 00028: val_loss did not improve from 19.50767\n",
            "Epoch 29/200\n",
            "32000/32000 [==============================] - 4s 129us/step - loss: 19.4441 - mean_absolute_error: 19.4441 - accuracy: 0.0000e+00 - val_loss: 19.4305 - val_mean_absolute_error: 19.4305 - val_accuracy: 0.0000e+00\n",
            "\n",
            "Epoch 00029: val_loss improved from 19.50767 to 19.43052, saving model to Train 2 Weights-029--19.43052.hdf5\n",
            "Epoch 30/200\n",
            "32000/32000 [==============================] - 5s 144us/step - loss: 19.3896 - mean_absolute_error: 19.3895 - accuracy: 0.0000e+00 - val_loss: 19.4301 - val_mean_absolute_error: 19.4300 - val_accuracy: 0.0000e+00\n",
            "\n",
            "Epoch 00030: val_loss improved from 19.43052 to 19.43006, saving model to Train 2 Weights-030--19.43006.hdf5\n",
            "Epoch 31/200\n",
            "32000/32000 [==============================] - 5s 146us/step - loss: 19.3686 - mean_absolute_error: 19.3686 - accuracy: 0.0000e+00 - val_loss: 19.4214 - val_mean_absolute_error: 19.4214 - val_accuracy: 0.0000e+00\n",
            "\n",
            "Epoch 00031: val_loss improved from 19.43006 to 19.42145, saving model to Train 2 Weights-031--19.42145.hdf5\n",
            "Epoch 32/200\n",
            "32000/32000 [==============================] - 5s 142us/step - loss: 19.3618 - mean_absolute_error: 19.3618 - accuracy: 0.0000e+00 - val_loss: 19.4154 - val_mean_absolute_error: 19.4154 - val_accuracy: 0.0000e+00\n",
            "\n",
            "Epoch 00032: val_loss improved from 19.42145 to 19.41542, saving model to Train 2 Weights-032--19.41542.hdf5\n",
            "Epoch 33/200\n",
            "32000/32000 [==============================] - 4s 136us/step - loss: 19.3553 - mean_absolute_error: 19.3553 - accuracy: 0.0000e+00 - val_loss: 19.5109 - val_mean_absolute_error: 19.5109 - val_accuracy: 0.0000e+00\n",
            "\n",
            "Epoch 00033: val_loss did not improve from 19.41542\n",
            "Epoch 34/200\n",
            "32000/32000 [==============================] - 4s 135us/step - loss: 19.3504 - mean_absolute_error: 19.3504 - accuracy: 0.0000e+00 - val_loss: 19.4674 - val_mean_absolute_error: 19.4674 - val_accuracy: 0.0000e+00\n",
            "\n",
            "Epoch 00034: val_loss did not improve from 19.41542\n",
            "Epoch 35/200\n",
            "32000/32000 [==============================] - 4s 135us/step - loss: 19.3407 - mean_absolute_error: 19.3407 - accuracy: 0.0000e+00 - val_loss: 19.4102 - val_mean_absolute_error: 19.4102 - val_accuracy: 0.0000e+00\n",
            "\n",
            "Epoch 00035: val_loss improved from 19.41542 to 19.41019, saving model to Train 2 Weights-035--19.41019.hdf5\n",
            "Epoch 36/200\n",
            "32000/32000 [==============================] - 4s 132us/step - loss: 19.3355 - mean_absolute_error: 19.3355 - accuracy: 0.0000e+00 - val_loss: 19.4190 - val_mean_absolute_error: 19.4190 - val_accuracy: 0.0000e+00\n",
            "\n",
            "Epoch 00036: val_loss did not improve from 19.41019\n",
            "Epoch 37/200\n",
            "32000/32000 [==============================] - 4s 139us/step - loss: 19.3411 - mean_absolute_error: 19.3411 - accuracy: 0.0000e+00 - val_loss: 19.4855 - val_mean_absolute_error: 19.4855 - val_accuracy: 0.0000e+00\n",
            "\n",
            "Epoch 00037: val_loss did not improve from 19.41019\n",
            "Epoch 38/200\n",
            "32000/32000 [==============================] - 4s 140us/step - loss: 19.3512 - mean_absolute_error: 19.3512 - accuracy: 0.0000e+00 - val_loss: 19.4064 - val_mean_absolute_error: 19.4064 - val_accuracy: 0.0000e+00\n",
            "\n",
            "Epoch 00038: val_loss improved from 19.41019 to 19.40641, saving model to Train 2 Weights-038--19.40641.hdf5\n",
            "Epoch 39/200\n",
            "32000/32000 [==============================] - 4s 131us/step - loss: 19.3308 - mean_absolute_error: 19.3308 - accuracy: 0.0000e+00 - val_loss: 19.4720 - val_mean_absolute_error: 19.4720 - val_accuracy: 0.0000e+00\n",
            "\n",
            "Epoch 00039: val_loss did not improve from 19.40641\n",
            "Epoch 40/200\n",
            "32000/32000 [==============================] - 4s 130us/step - loss: 19.3518 - mean_absolute_error: 19.3518 - accuracy: 0.0000e+00 - val_loss: 19.4458 - val_mean_absolute_error: 19.4458 - val_accuracy: 0.0000e+00\n",
            "\n",
            "Epoch 00040: val_loss did not improve from 19.40641\n",
            "Epoch 41/200\n",
            "32000/32000 [==============================] - 4s 134us/step - loss: 19.3201 - mean_absolute_error: 19.3201 - accuracy: 0.0000e+00 - val_loss: 19.4055 - val_mean_absolute_error: 19.4055 - val_accuracy: 0.0000e+00\n",
            "\n",
            "Epoch 00041: val_loss improved from 19.40641 to 19.40547, saving model to Train 2 Weights-041--19.40547.hdf5\n",
            "Epoch 42/200\n",
            "32000/32000 [==============================] - 4s 131us/step - loss: 19.3351 - mean_absolute_error: 19.3351 - accuracy: 0.0000e+00 - val_loss: 19.4027 - val_mean_absolute_error: 19.4027 - val_accuracy: 0.0000e+00\n",
            "\n",
            "Epoch 00042: val_loss improved from 19.40547 to 19.40268, saving model to Train 2 Weights-042--19.40268.hdf5\n",
            "Epoch 43/200\n",
            "32000/32000 [==============================] - 4s 137us/step - loss: 19.3374 - mean_absolute_error: 19.3374 - accuracy: 0.0000e+00 - val_loss: 19.4823 - val_mean_absolute_error: 19.4824 - val_accuracy: 0.0000e+00\n",
            "\n",
            "Epoch 00043: val_loss did not improve from 19.40268\n",
            "Epoch 44/200\n",
            "32000/32000 [==============================] - 4s 135us/step - loss: 19.3432 - mean_absolute_error: 19.3431 - accuracy: 0.0000e+00 - val_loss: 19.4037 - val_mean_absolute_error: 19.4037 - val_accuracy: 0.0000e+00\n",
            "\n",
            "Epoch 00044: val_loss did not improve from 19.40268\n",
            "Epoch 45/200\n",
            "32000/32000 [==============================] - 4s 129us/step - loss: 19.3330 - mean_absolute_error: 19.3330 - accuracy: 0.0000e+00 - val_loss: 19.4321 - val_mean_absolute_error: 19.4321 - val_accuracy: 0.0000e+00\n",
            "\n",
            "Epoch 00045: val_loss did not improve from 19.40268\n",
            "Epoch 46/200\n",
            "32000/32000 [==============================] - 4s 130us/step - loss: 19.3471 - mean_absolute_error: 19.3471 - accuracy: 0.0000e+00 - val_loss: 19.4659 - val_mean_absolute_error: 19.4659 - val_accuracy: 0.0000e+00\n",
            "\n",
            "Epoch 00046: val_loss did not improve from 19.40268\n",
            "Epoch 47/200\n",
            "32000/32000 [==============================] - 4s 132us/step - loss: 19.3423 - mean_absolute_error: 19.3423 - accuracy: 0.0000e+00 - val_loss: 19.5182 - val_mean_absolute_error: 19.5182 - val_accuracy: 0.0000e+00\n",
            "\n",
            "Epoch 00047: val_loss did not improve from 19.40268\n",
            "Epoch 48/200\n",
            "32000/32000 [==============================] - 4s 125us/step - loss: 19.3408 - mean_absolute_error: 19.3409 - accuracy: 0.0000e+00 - val_loss: 19.4066 - val_mean_absolute_error: 19.4066 - val_accuracy: 0.0000e+00\n",
            "\n",
            "Epoch 00048: val_loss did not improve from 19.40268\n",
            "Epoch 49/200\n",
            "32000/32000 [==============================] - 4s 131us/step - loss: 19.3383 - mean_absolute_error: 19.3383 - accuracy: 0.0000e+00 - val_loss: 19.8218 - val_mean_absolute_error: 19.8218 - val_accuracy: 0.0000e+00\n",
            "\n",
            "Epoch 00049: val_loss did not improve from 19.40268\n",
            "Epoch 50/200\n",
            "32000/32000 [==============================] - 4s 128us/step - loss: 19.3410 - mean_absolute_error: 19.3410 - accuracy: 0.0000e+00 - val_loss: 19.4047 - val_mean_absolute_error: 19.4047 - val_accuracy: 0.0000e+00\n",
            "\n",
            "Epoch 00050: val_loss did not improve from 19.40268\n",
            "Epoch 51/200\n",
            "32000/32000 [==============================] - 4s 135us/step - loss: 19.3260 - mean_absolute_error: 19.3260 - accuracy: 0.0000e+00 - val_loss: 19.4033 - val_mean_absolute_error: 19.4033 - val_accuracy: 0.0000e+00\n",
            "\n",
            "Epoch 00051: val_loss did not improve from 19.40268\n",
            "Epoch 52/200\n",
            "32000/32000 [==============================] - 4s 133us/step - loss: 19.3275 - mean_absolute_error: 19.3274 - accuracy: 0.0000e+00 - val_loss: 19.5583 - val_mean_absolute_error: 19.5583 - val_accuracy: 0.0000e+00\n",
            "\n",
            "Epoch 00052: val_loss did not improve from 19.40268\n",
            "Epoch 53/200\n",
            "32000/32000 [==============================] - 4s 130us/step - loss: 19.3335 - mean_absolute_error: 19.3335 - accuracy: 0.0000e+00 - val_loss: 19.4163 - val_mean_absolute_error: 19.4163 - val_accuracy: 0.0000e+00\n",
            "\n",
            "Epoch 00053: val_loss did not improve from 19.40268\n",
            "Epoch 54/200\n",
            "32000/32000 [==============================] - 4s 132us/step - loss: 19.3502 - mean_absolute_error: 19.3502 - accuracy: 0.0000e+00 - val_loss: 19.5019 - val_mean_absolute_error: 19.5019 - val_accuracy: 0.0000e+00\n",
            "\n",
            "Epoch 00054: val_loss did not improve from 19.40268\n",
            "Epoch 55/200\n",
            "32000/32000 [==============================] - 4s 131us/step - loss: 19.3251 - mean_absolute_error: 19.3251 - accuracy: 0.0000e+00 - val_loss: 19.9032 - val_mean_absolute_error: 19.9032 - val_accuracy: 0.0000e+00\n",
            "\n",
            "Epoch 00055: val_loss did not improve from 19.40268\n",
            "Epoch 56/200\n",
            "32000/32000 [==============================] - 4s 134us/step - loss: 19.3397 - mean_absolute_error: 19.3397 - accuracy: 0.0000e+00 - val_loss: 19.4787 - val_mean_absolute_error: 19.4787 - val_accuracy: 0.0000e+00\n",
            "\n",
            "Epoch 00056: val_loss did not improve from 19.40268\n",
            "Epoch 57/200\n",
            "32000/32000 [==============================] - 4s 131us/step - loss: 19.3316 - mean_absolute_error: 19.3316 - accuracy: 0.0000e+00 - val_loss: 19.4414 - val_mean_absolute_error: 19.4414 - val_accuracy: 0.0000e+00\n",
            "\n",
            "Epoch 00057: val_loss did not improve from 19.40268\n",
            "Epoch 58/200\n",
            "32000/32000 [==============================] - 4s 132us/step - loss: 19.3252 - mean_absolute_error: 19.3252 - accuracy: 0.0000e+00 - val_loss: 19.4384 - val_mean_absolute_error: 19.4384 - val_accuracy: 0.0000e+00\n",
            "\n",
            "Epoch 00058: val_loss did not improve from 19.40268\n",
            "Epoch 59/200\n",
            "32000/32000 [==============================] - 4s 135us/step - loss: 19.3412 - mean_absolute_error: 19.3412 - accuracy: 0.0000e+00 - val_loss: 19.4402 - val_mean_absolute_error: 19.4402 - val_accuracy: 0.0000e+00\n",
            "\n",
            "Epoch 00059: val_loss did not improve from 19.40268\n",
            "Epoch 60/200\n",
            "32000/32000 [==============================] - 4s 131us/step - loss: 19.3451 - mean_absolute_error: 19.3451 - accuracy: 0.0000e+00 - val_loss: 19.4062 - val_mean_absolute_error: 19.4062 - val_accuracy: 0.0000e+00\n",
            "\n",
            "Epoch 00060: val_loss did not improve from 19.40268\n",
            "Epoch 61/200\n",
            "32000/32000 [==============================] - 4s 137us/step - loss: 19.3365 - mean_absolute_error: 19.3365 - accuracy: 0.0000e+00 - val_loss: 19.4144 - val_mean_absolute_error: 19.4144 - val_accuracy: 0.0000e+00\n",
            "\n",
            "Epoch 00061: val_loss did not improve from 19.40268\n",
            "Epoch 62/200\n",
            "32000/32000 [==============================] - 4s 132us/step - loss: 19.3370 - mean_absolute_error: 19.3370 - accuracy: 0.0000e+00 - val_loss: 19.4037 - val_mean_absolute_error: 19.4037 - val_accuracy: 0.0000e+00\n",
            "\n",
            "Epoch 00062: val_loss did not improve from 19.40268\n",
            "Epoch 63/200\n",
            "32000/32000 [==============================] - 4s 133us/step - loss: 19.3276 - mean_absolute_error: 19.3276 - accuracy: 0.0000e+00 - val_loss: 19.4105 - val_mean_absolute_error: 19.4105 - val_accuracy: 0.0000e+00\n",
            "\n",
            "Epoch 00063: val_loss did not improve from 19.40268\n",
            "Epoch 64/200\n",
            "32000/32000 [==============================] - 4s 127us/step - loss: 19.3192 - mean_absolute_error: 19.3192 - accuracy: 0.0000e+00 - val_loss: 19.4029 - val_mean_absolute_error: 19.4029 - val_accuracy: 0.0000e+00\n",
            "\n",
            "Epoch 00064: val_loss did not improve from 19.40268\n",
            "Epoch 65/200\n",
            "32000/32000 [==============================] - 4s 132us/step - loss: 19.3378 - mean_absolute_error: 19.3378 - accuracy: 0.0000e+00 - val_loss: 19.4398 - val_mean_absolute_error: 19.4398 - val_accuracy: 0.0000e+00\n",
            "\n",
            "Epoch 00065: val_loss did not improve from 19.40268\n",
            "Epoch 66/200\n",
            "32000/32000 [==============================] - 4s 131us/step - loss: 19.3352 - mean_absolute_error: 19.3352 - accuracy: 0.0000e+00 - val_loss: 19.6319 - val_mean_absolute_error: 19.6319 - val_accuracy: 0.0000e+00\n",
            "\n",
            "Epoch 00066: val_loss did not improve from 19.40268\n",
            "Epoch 67/200\n",
            "32000/32000 [==============================] - 4s 133us/step - loss: 19.3276 - mean_absolute_error: 19.3276 - accuracy: 0.0000e+00 - val_loss: 19.4329 - val_mean_absolute_error: 19.4329 - val_accuracy: 0.0000e+00\n",
            "\n",
            "Epoch 00067: val_loss did not improve from 19.40268\n",
            "Epoch 68/200\n",
            "32000/32000 [==============================] - 4s 134us/step - loss: 19.3255 - mean_absolute_error: 19.3255 - accuracy: 0.0000e+00 - val_loss: 19.4783 - val_mean_absolute_error: 19.4783 - val_accuracy: 0.0000e+00\n",
            "\n",
            "Epoch 00068: val_loss did not improve from 19.40268\n",
            "Epoch 69/200\n",
            "32000/32000 [==============================] - 4s 133us/step - loss: 19.3260 - mean_absolute_error: 19.3260 - accuracy: 0.0000e+00 - val_loss: 19.4230 - val_mean_absolute_error: 19.4230 - val_accuracy: 0.0000e+00\n",
            "\n",
            "Epoch 00069: val_loss did not improve from 19.40268\n",
            "Epoch 70/200\n",
            "32000/32000 [==============================] - 4s 137us/step - loss: 19.3277 - mean_absolute_error: 19.3277 - accuracy: 0.0000e+00 - val_loss: 19.4467 - val_mean_absolute_error: 19.4467 - val_accuracy: 0.0000e+00\n",
            "\n",
            "Epoch 00070: val_loss did not improve from 19.40268\n",
            "Epoch 71/200\n",
            "32000/32000 [==============================] - 5s 143us/step - loss: 19.3319 - mean_absolute_error: 19.3319 - accuracy: 0.0000e+00 - val_loss: 19.4130 - val_mean_absolute_error: 19.4130 - val_accuracy: 0.0000e+00\n",
            "\n",
            "Epoch 00071: val_loss did not improve from 19.40268\n",
            "Epoch 72/200\n",
            "32000/32000 [==============================] - 4s 130us/step - loss: 19.3285 - mean_absolute_error: 19.3285 - accuracy: 0.0000e+00 - val_loss: 19.4803 - val_mean_absolute_error: 19.4803 - val_accuracy: 0.0000e+00\n",
            "\n",
            "Epoch 00072: val_loss did not improve from 19.40268\n",
            "Epoch 73/200\n",
            "32000/32000 [==============================] - 4s 132us/step - loss: 19.3323 - mean_absolute_error: 19.3323 - accuracy: 0.0000e+00 - val_loss: 19.4036 - val_mean_absolute_error: 19.4036 - val_accuracy: 0.0000e+00\n",
            "\n",
            "Epoch 00073: val_loss did not improve from 19.40268\n",
            "Epoch 74/200\n",
            "32000/32000 [==============================] - 4s 134us/step - loss: 19.3352 - mean_absolute_error: 19.3352 - accuracy: 0.0000e+00 - val_loss: 19.4231 - val_mean_absolute_error: 19.4231 - val_accuracy: 0.0000e+00\n",
            "\n",
            "Epoch 00074: val_loss did not improve from 19.40268\n",
            "Epoch 75/200\n",
            "32000/32000 [==============================] - 4s 130us/step - loss: 19.3201 - mean_absolute_error: 19.3201 - accuracy: 0.0000e+00 - val_loss: 19.5765 - val_mean_absolute_error: 19.5765 - val_accuracy: 0.0000e+00\n",
            "\n",
            "Epoch 00075: val_loss did not improve from 19.40268\n",
            "Epoch 76/200\n",
            "32000/32000 [==============================] - 4s 129us/step - loss: 19.3186 - mean_absolute_error: 19.3186 - accuracy: 0.0000e+00 - val_loss: 19.4103 - val_mean_absolute_error: 19.4103 - val_accuracy: 0.0000e+00\n",
            "\n",
            "Epoch 00076: val_loss did not improve from 19.40268\n",
            "Epoch 77/200\n",
            "32000/32000 [==============================] - 4s 132us/step - loss: 19.3221 - mean_absolute_error: 19.3222 - accuracy: 0.0000e+00 - val_loss: 19.6653 - val_mean_absolute_error: 19.6653 - val_accuracy: 0.0000e+00\n",
            "\n",
            "Epoch 00077: val_loss did not improve from 19.40268\n",
            "Epoch 78/200\n",
            "32000/32000 [==============================] - 4s 125us/step - loss: 19.3260 - mean_absolute_error: 19.3260 - accuracy: 0.0000e+00 - val_loss: 19.4425 - val_mean_absolute_error: 19.4425 - val_accuracy: 0.0000e+00\n",
            "\n",
            "Epoch 00078: val_loss did not improve from 19.40268\n",
            "Epoch 79/200\n",
            "32000/32000 [==============================] - 4s 134us/step - loss: 19.3228 - mean_absolute_error: 19.3228 - accuracy: 0.0000e+00 - val_loss: 19.4657 - val_mean_absolute_error: 19.4657 - val_accuracy: 0.0000e+00\n",
            "\n",
            "Epoch 00079: val_loss did not improve from 19.40268\n",
            "Epoch 80/200\n",
            "32000/32000 [==============================] - 4s 131us/step - loss: 19.3189 - mean_absolute_error: 19.3189 - accuracy: 0.0000e+00 - val_loss: 19.4180 - val_mean_absolute_error: 19.4180 - val_accuracy: 0.0000e+00\n",
            "\n",
            "Epoch 00080: val_loss did not improve from 19.40268\n",
            "Epoch 81/200\n",
            "32000/32000 [==============================] - 4s 133us/step - loss: 19.3256 - mean_absolute_error: 19.3256 - accuracy: 0.0000e+00 - val_loss: 19.4389 - val_mean_absolute_error: 19.4389 - val_accuracy: 0.0000e+00\n",
            "\n",
            "Epoch 00081: val_loss did not improve from 19.40268\n",
            "Epoch 82/200\n",
            "32000/32000 [==============================] - 4s 131us/step - loss: 19.3202 - mean_absolute_error: 19.3202 - accuracy: 0.0000e+00 - val_loss: 19.4972 - val_mean_absolute_error: 19.4972 - val_accuracy: 0.0000e+00\n",
            "\n",
            "Epoch 00082: val_loss did not improve from 19.40268\n",
            "Epoch 83/200\n",
            "32000/32000 [==============================] - 4s 130us/step - loss: 19.3156 - mean_absolute_error: 19.3156 - accuracy: 0.0000e+00 - val_loss: 19.5221 - val_mean_absolute_error: 19.5221 - val_accuracy: 0.0000e+00\n",
            "\n",
            "Epoch 00083: val_loss did not improve from 19.40268\n",
            "Epoch 84/200\n",
            "32000/32000 [==============================] - 4s 134us/step - loss: 19.3310 - mean_absolute_error: 19.3310 - accuracy: 0.0000e+00 - val_loss: 19.4230 - val_mean_absolute_error: 19.4230 - val_accuracy: 0.0000e+00\n",
            "\n",
            "Epoch 00084: val_loss did not improve from 19.40268\n",
            "Epoch 85/200\n",
            "32000/32000 [==============================] - 4s 132us/step - loss: 19.3167 - mean_absolute_error: 19.3167 - accuracy: 0.0000e+00 - val_loss: 19.5182 - val_mean_absolute_error: 19.5182 - val_accuracy: 0.0000e+00\n",
            "\n",
            "Epoch 00085: val_loss did not improve from 19.40268\n",
            "Epoch 86/200\n",
            "32000/32000 [==============================] - 4s 130us/step - loss: 19.3266 - mean_absolute_error: 19.3266 - accuracy: 0.0000e+00 - val_loss: 19.4113 - val_mean_absolute_error: 19.4113 - val_accuracy: 0.0000e+00\n",
            "\n",
            "Epoch 00086: val_loss did not improve from 19.40268\n",
            "Epoch 87/200\n",
            "28672/32000 [=========================>....] - ETA: 0s - loss: 19.3240 - mean_absolute_error: 19.3240 - accuracy: 0.0000e+00"
          ],
          "name": "stdout"
        },
        {
          "output_type": "error",
          "ename": "KeyboardInterrupt",
          "evalue": "ignored",
          "traceback": [
            "\u001b[0;31m---------------------------------------------------------------------------\u001b[0m",
            "\u001b[0;31mKeyboardInterrupt\u001b[0m                         Traceback (most recent call last)",
            "\u001b[0;32m<ipython-input-73-89934511da4a>\u001b[0m in \u001b[0;36m<module>\u001b[0;34m()\u001b[0m\n\u001b[1;32m      2\u001b[0m \u001b[0mcheckpoint\u001b[0m \u001b[0;34m=\u001b[0m \u001b[0mModelCheckpoint\u001b[0m\u001b[0;34m(\u001b[0m\u001b[0mcheckpoint_name\u001b[0m\u001b[0;34m,\u001b[0m \u001b[0mmonitor\u001b[0m\u001b[0;34m=\u001b[0m\u001b[0;34m'val_loss'\u001b[0m\u001b[0;34m,\u001b[0m \u001b[0mverbose\u001b[0m \u001b[0;34m=\u001b[0m \u001b[0;36m1\u001b[0m\u001b[0;34m,\u001b[0m \u001b[0msave_best_only\u001b[0m \u001b[0;34m=\u001b[0m \u001b[0;32mTrue\u001b[0m\u001b[0;34m,\u001b[0m \u001b[0mmode\u001b[0m \u001b[0;34m=\u001b[0m\u001b[0;34m'auto'\u001b[0m\u001b[0;34m)\u001b[0m\u001b[0;34m\u001b[0m\u001b[0;34m\u001b[0m\u001b[0m\n\u001b[1;32m      3\u001b[0m \u001b[0mcallbacks_list\u001b[0m \u001b[0;34m=\u001b[0m \u001b[0;34m[\u001b[0m\u001b[0mcheckpoint\u001b[0m\u001b[0;34m]\u001b[0m\u001b[0;34m\u001b[0m\u001b[0;34m\u001b[0m\u001b[0m\n\u001b[0;32m----> 4\u001b[0;31m \u001b[0mhistory\u001b[0m \u001b[0;34m=\u001b[0m \u001b[0mNN_model\u001b[0m\u001b[0;34m.\u001b[0m\u001b[0mfit\u001b[0m\u001b[0;34m(\u001b[0m\u001b[0mtrain\u001b[0m\u001b[0;34m,\u001b[0m\u001b[0my\u001b[0m\u001b[0;34m,\u001b[0m\u001b[0mepochs\u001b[0m\u001b[0;34m=\u001b[0m\u001b[0;36m200\u001b[0m\u001b[0;34m,\u001b[0m \u001b[0mbatch_size\u001b[0m\u001b[0;34m=\u001b[0m\u001b[0;36m32\u001b[0m\u001b[0;34m,\u001b[0m \u001b[0mvalidation_split\u001b[0m \u001b[0;34m=\u001b[0m \u001b[0;36m0.2\u001b[0m\u001b[0;34m,\u001b[0m \u001b[0mcallbacks\u001b[0m\u001b[0;34m=\u001b[0m\u001b[0mcallbacks_list\u001b[0m\u001b[0;34m)\u001b[0m\u001b[0;34m\u001b[0m\u001b[0;34m\u001b[0m\u001b[0m\n\u001b[0m",
            "\u001b[0;32m/usr/local/lib/python3.6/dist-packages/keras/engine/training.py\u001b[0m in \u001b[0;36mfit\u001b[0;34m(self, x, y, batch_size, epochs, verbose, callbacks, validation_split, validation_data, shuffle, class_weight, sample_weight, initial_epoch, steps_per_epoch, validation_steps, validation_freq, max_queue_size, workers, use_multiprocessing, **kwargs)\u001b[0m\n\u001b[1;32m   1237\u001b[0m                                         \u001b[0msteps_per_epoch\u001b[0m\u001b[0;34m=\u001b[0m\u001b[0msteps_per_epoch\u001b[0m\u001b[0;34m,\u001b[0m\u001b[0;34m\u001b[0m\u001b[0;34m\u001b[0m\u001b[0m\n\u001b[1;32m   1238\u001b[0m                                         \u001b[0mvalidation_steps\u001b[0m\u001b[0;34m=\u001b[0m\u001b[0mvalidation_steps\u001b[0m\u001b[0;34m,\u001b[0m\u001b[0;34m\u001b[0m\u001b[0;34m\u001b[0m\u001b[0m\n\u001b[0;32m-> 1239\u001b[0;31m                                         validation_freq=validation_freq)\n\u001b[0m\u001b[1;32m   1240\u001b[0m \u001b[0;34m\u001b[0m\u001b[0m\n\u001b[1;32m   1241\u001b[0m     def evaluate(self,\n",
            "\u001b[0;32m/usr/local/lib/python3.6/dist-packages/keras/engine/training_arrays.py\u001b[0m in \u001b[0;36mfit_loop\u001b[0;34m(model, fit_function, fit_inputs, out_labels, batch_size, epochs, verbose, callbacks, val_function, val_inputs, shuffle, initial_epoch, steps_per_epoch, validation_steps, validation_freq)\u001b[0m\n\u001b[1;32m    194\u001b[0m                     \u001b[0mins_batch\u001b[0m\u001b[0;34m[\u001b[0m\u001b[0mi\u001b[0m\u001b[0;34m]\u001b[0m \u001b[0;34m=\u001b[0m \u001b[0mins_batch\u001b[0m\u001b[0;34m[\u001b[0m\u001b[0mi\u001b[0m\u001b[0;34m]\u001b[0m\u001b[0;34m.\u001b[0m\u001b[0mtoarray\u001b[0m\u001b[0;34m(\u001b[0m\u001b[0;34m)\u001b[0m\u001b[0;34m\u001b[0m\u001b[0;34m\u001b[0m\u001b[0m\n\u001b[1;32m    195\u001b[0m \u001b[0;34m\u001b[0m\u001b[0m\n\u001b[0;32m--> 196\u001b[0;31m                 \u001b[0mouts\u001b[0m \u001b[0;34m=\u001b[0m \u001b[0mfit_function\u001b[0m\u001b[0;34m(\u001b[0m\u001b[0mins_batch\u001b[0m\u001b[0;34m)\u001b[0m\u001b[0;34m\u001b[0m\u001b[0;34m\u001b[0m\u001b[0m\n\u001b[0m\u001b[1;32m    197\u001b[0m                 \u001b[0mouts\u001b[0m \u001b[0;34m=\u001b[0m \u001b[0mto_list\u001b[0m\u001b[0;34m(\u001b[0m\u001b[0mouts\u001b[0m\u001b[0;34m)\u001b[0m\u001b[0;34m\u001b[0m\u001b[0;34m\u001b[0m\u001b[0m\n\u001b[1;32m    198\u001b[0m                 \u001b[0;32mfor\u001b[0m \u001b[0ml\u001b[0m\u001b[0;34m,\u001b[0m \u001b[0mo\u001b[0m \u001b[0;32min\u001b[0m \u001b[0mzip\u001b[0m\u001b[0;34m(\u001b[0m\u001b[0mout_labels\u001b[0m\u001b[0;34m,\u001b[0m \u001b[0mouts\u001b[0m\u001b[0;34m)\u001b[0m\u001b[0;34m:\u001b[0m\u001b[0;34m\u001b[0m\u001b[0;34m\u001b[0m\u001b[0m\n",
            "\u001b[0;32m/usr/local/lib/python3.6/dist-packages/tensorflow/python/keras/backend.py\u001b[0m in \u001b[0;36m__call__\u001b[0;34m(self, inputs)\u001b[0m\n\u001b[1;32m   3790\u001b[0m         \u001b[0mvalue\u001b[0m \u001b[0;34m=\u001b[0m \u001b[0mmath_ops\u001b[0m\u001b[0;34m.\u001b[0m\u001b[0mcast\u001b[0m\u001b[0;34m(\u001b[0m\u001b[0mvalue\u001b[0m\u001b[0;34m,\u001b[0m \u001b[0mtensor\u001b[0m\u001b[0;34m.\u001b[0m\u001b[0mdtype\u001b[0m\u001b[0;34m)\u001b[0m\u001b[0;34m\u001b[0m\u001b[0;34m\u001b[0m\u001b[0m\n\u001b[1;32m   3791\u001b[0m       \u001b[0mconverted_inputs\u001b[0m\u001b[0;34m.\u001b[0m\u001b[0mappend\u001b[0m\u001b[0;34m(\u001b[0m\u001b[0mvalue\u001b[0m\u001b[0;34m)\u001b[0m\u001b[0;34m\u001b[0m\u001b[0;34m\u001b[0m\u001b[0m\n\u001b[0;32m-> 3792\u001b[0;31m     \u001b[0moutputs\u001b[0m \u001b[0;34m=\u001b[0m \u001b[0mself\u001b[0m\u001b[0;34m.\u001b[0m\u001b[0m_graph_fn\u001b[0m\u001b[0;34m(\u001b[0m\u001b[0;34m*\u001b[0m\u001b[0mconverted_inputs\u001b[0m\u001b[0;34m)\u001b[0m\u001b[0;34m\u001b[0m\u001b[0;34m\u001b[0m\u001b[0m\n\u001b[0m\u001b[1;32m   3793\u001b[0m \u001b[0;34m\u001b[0m\u001b[0m\n\u001b[1;32m   3794\u001b[0m     \u001b[0;31m# EagerTensor.numpy() will often make a copy to ensure memory safety.\u001b[0m\u001b[0;34m\u001b[0m\u001b[0;34m\u001b[0m\u001b[0;34m\u001b[0m\u001b[0m\n",
            "\u001b[0;32m/usr/local/lib/python3.6/dist-packages/tensorflow/python/eager/function.py\u001b[0m in \u001b[0;36m__call__\u001b[0;34m(self, *args, **kwargs)\u001b[0m\n\u001b[1;32m   1603\u001b[0m       \u001b[0mTypeError\u001b[0m\u001b[0;34m:\u001b[0m \u001b[0mFor\u001b[0m \u001b[0minvalid\u001b[0m \u001b[0mpositional\u001b[0m\u001b[0;34m/\u001b[0m\u001b[0mkeyword\u001b[0m \u001b[0margument\u001b[0m \u001b[0mcombinations\u001b[0m\u001b[0;34m.\u001b[0m\u001b[0;34m\u001b[0m\u001b[0;34m\u001b[0m\u001b[0m\n\u001b[1;32m   1604\u001b[0m     \"\"\"\n\u001b[0;32m-> 1605\u001b[0;31m     \u001b[0;32mreturn\u001b[0m \u001b[0mself\u001b[0m\u001b[0;34m.\u001b[0m\u001b[0m_call_impl\u001b[0m\u001b[0;34m(\u001b[0m\u001b[0margs\u001b[0m\u001b[0;34m,\u001b[0m \u001b[0mkwargs\u001b[0m\u001b[0;34m)\u001b[0m\u001b[0;34m\u001b[0m\u001b[0;34m\u001b[0m\u001b[0m\n\u001b[0m\u001b[1;32m   1606\u001b[0m \u001b[0;34m\u001b[0m\u001b[0m\n\u001b[1;32m   1607\u001b[0m   \u001b[0;32mdef\u001b[0m \u001b[0m_call_impl\u001b[0m\u001b[0;34m(\u001b[0m\u001b[0mself\u001b[0m\u001b[0;34m,\u001b[0m \u001b[0margs\u001b[0m\u001b[0;34m,\u001b[0m \u001b[0mkwargs\u001b[0m\u001b[0;34m,\u001b[0m \u001b[0mcancellation_manager\u001b[0m\u001b[0;34m=\u001b[0m\u001b[0;32mNone\u001b[0m\u001b[0;34m)\u001b[0m\u001b[0;34m:\u001b[0m\u001b[0;34m\u001b[0m\u001b[0;34m\u001b[0m\u001b[0m\n",
            "\u001b[0;32m/usr/local/lib/python3.6/dist-packages/tensorflow/python/eager/function.py\u001b[0m in \u001b[0;36m_call_impl\u001b[0;34m(self, args, kwargs, cancellation_manager)\u001b[0m\n\u001b[1;32m   1643\u001b[0m       raise TypeError(\"Keyword arguments {} unknown. Expected {}.\".format(\n\u001b[1;32m   1644\u001b[0m           list(kwargs.keys()), list(self._arg_keywords)))\n\u001b[0;32m-> 1645\u001b[0;31m     \u001b[0;32mreturn\u001b[0m \u001b[0mself\u001b[0m\u001b[0;34m.\u001b[0m\u001b[0m_call_flat\u001b[0m\u001b[0;34m(\u001b[0m\u001b[0margs\u001b[0m\u001b[0;34m,\u001b[0m \u001b[0mself\u001b[0m\u001b[0;34m.\u001b[0m\u001b[0mcaptured_inputs\u001b[0m\u001b[0;34m,\u001b[0m \u001b[0mcancellation_manager\u001b[0m\u001b[0;34m)\u001b[0m\u001b[0;34m\u001b[0m\u001b[0;34m\u001b[0m\u001b[0m\n\u001b[0m\u001b[1;32m   1646\u001b[0m \u001b[0;34m\u001b[0m\u001b[0m\n\u001b[1;32m   1647\u001b[0m   \u001b[0;32mdef\u001b[0m \u001b[0m_filtered_call\u001b[0m\u001b[0;34m(\u001b[0m\u001b[0mself\u001b[0m\u001b[0;34m,\u001b[0m \u001b[0margs\u001b[0m\u001b[0;34m,\u001b[0m \u001b[0mkwargs\u001b[0m\u001b[0;34m)\u001b[0m\u001b[0;34m:\u001b[0m\u001b[0;34m\u001b[0m\u001b[0;34m\u001b[0m\u001b[0m\n",
            "\u001b[0;32m/usr/local/lib/python3.6/dist-packages/tensorflow/python/eager/function.py\u001b[0m in \u001b[0;36m_call_flat\u001b[0;34m(self, args, captured_inputs, cancellation_manager)\u001b[0m\n\u001b[1;32m   1744\u001b[0m       \u001b[0;31m# No tape is watching; skip to running the function.\u001b[0m\u001b[0;34m\u001b[0m\u001b[0;34m\u001b[0m\u001b[0;34m\u001b[0m\u001b[0m\n\u001b[1;32m   1745\u001b[0m       return self._build_call_outputs(self._inference_function.call(\n\u001b[0;32m-> 1746\u001b[0;31m           ctx, args, cancellation_manager=cancellation_manager))\n\u001b[0m\u001b[1;32m   1747\u001b[0m     forward_backward = self._select_forward_and_backward_functions(\n\u001b[1;32m   1748\u001b[0m         \u001b[0margs\u001b[0m\u001b[0;34m,\u001b[0m\u001b[0;34m\u001b[0m\u001b[0;34m\u001b[0m\u001b[0m\n",
            "\u001b[0;32m/usr/local/lib/python3.6/dist-packages/tensorflow/python/eager/function.py\u001b[0m in \u001b[0;36mcall\u001b[0;34m(self, ctx, args, cancellation_manager)\u001b[0m\n\u001b[1;32m    596\u001b[0m               \u001b[0minputs\u001b[0m\u001b[0;34m=\u001b[0m\u001b[0margs\u001b[0m\u001b[0;34m,\u001b[0m\u001b[0;34m\u001b[0m\u001b[0;34m\u001b[0m\u001b[0m\n\u001b[1;32m    597\u001b[0m               \u001b[0mattrs\u001b[0m\u001b[0;34m=\u001b[0m\u001b[0mattrs\u001b[0m\u001b[0;34m,\u001b[0m\u001b[0;34m\u001b[0m\u001b[0;34m\u001b[0m\u001b[0m\n\u001b[0;32m--> 598\u001b[0;31m               ctx=ctx)\n\u001b[0m\u001b[1;32m    599\u001b[0m         \u001b[0;32melse\u001b[0m\u001b[0;34m:\u001b[0m\u001b[0;34m\u001b[0m\u001b[0;34m\u001b[0m\u001b[0m\n\u001b[1;32m    600\u001b[0m           outputs = execute.execute_with_cancellation(\n",
            "\u001b[0;32m/usr/local/lib/python3.6/dist-packages/tensorflow/python/eager/execute.py\u001b[0m in \u001b[0;36mquick_execute\u001b[0;34m(op_name, num_outputs, inputs, attrs, ctx, name)\u001b[0m\n\u001b[1;32m     58\u001b[0m     \u001b[0mctx\u001b[0m\u001b[0;34m.\u001b[0m\u001b[0mensure_initialized\u001b[0m\u001b[0;34m(\u001b[0m\u001b[0;34m)\u001b[0m\u001b[0;34m\u001b[0m\u001b[0;34m\u001b[0m\u001b[0m\n\u001b[1;32m     59\u001b[0m     tensors = pywrap_tfe.TFE_Py_Execute(ctx._handle, device_name, op_name,\n\u001b[0;32m---> 60\u001b[0;31m                                         inputs, attrs, num_outputs)\n\u001b[0m\u001b[1;32m     61\u001b[0m   \u001b[0;32mexcept\u001b[0m \u001b[0mcore\u001b[0m\u001b[0;34m.\u001b[0m\u001b[0m_NotOkStatusException\u001b[0m \u001b[0;32mas\u001b[0m \u001b[0me\u001b[0m\u001b[0;34m:\u001b[0m\u001b[0;34m\u001b[0m\u001b[0;34m\u001b[0m\u001b[0m\n\u001b[1;32m     62\u001b[0m     \u001b[0;32mif\u001b[0m \u001b[0mname\u001b[0m \u001b[0;32mis\u001b[0m \u001b[0;32mnot\u001b[0m \u001b[0;32mNone\u001b[0m\u001b[0;34m:\u001b[0m\u001b[0;34m\u001b[0m\u001b[0;34m\u001b[0m\u001b[0m\n",
            "\u001b[0;31mKeyboardInterrupt\u001b[0m: "
          ]
        }
      ]
    },
    {
      "cell_type": "code",
      "metadata": {
        "id": "l_ZcMZNp0pjM",
        "colab_type": "code",
        "colab": {
          "base_uri": "https://localhost:8080/",
          "height": 295
        },
        "outputId": "fc34e59a-bbc9-480d-83bb-fc6669d0d976"
      },
      "source": [
        "import keras\n",
        "from matplotlib import pyplot as plt\n",
        "plt.plot(history.history['loss'])\n",
        "plt.plot(history.history['val_loss'])\n",
        "plt.title('model loss')\n",
        "plt.ylabel('loss')\n",
        "plt.xlabel('epoch')\n",
        "plt.legend(['train', 'val'], loc='upper left')\n",
        "plt.show()"
      ],
      "execution_count": 57,
      "outputs": [
        {
          "output_type": "display_data",
          "data": {
            "image/png": "[encoded data removed]",
            "text/plain": [
              "<Figure size 432x288 with 1 Axes>"
            ]
          },
          "metadata": {
            "tags": [],
            "needs_background": "light"
          }
        }
      ]
    },
    {
      "cell_type": "code",
      "metadata": {
        "id": "FCrQtjuYKo1E",
        "colab_type": "code",
        "colab": {}
      },
      "source": [
        "def build_model():\n",
        "  NN_model = Sequential()\n",
        "\n",
        "  # The Input Layer :\n",
        "  NN_model.add(Dense(128, kernel_initializer='normal',input_dim=7, activation='relu'))\n",
        "\n",
        "  # The Hidden Layers :\n",
        "  NN_model.add(Dense(256, kernel_initializer='normal',activation='relu'))\n",
        "  NN_model.add(Dense(128, kernel_initializer='normal',activation='relu'))\n",
        "  NN_model.add(Dense(64, kernel_initializer='normal',activation='relu'))\n",
        "\n",
        "  # The Output Layer :\n",
        "  NN_model.add(Dense(1, kernel_initializer='normal',activation='linear'))\n",
        "\n",
        "  # Compile the network :\n",
        "  NN_model.compile(loss='mean_absolute_error', optimizer='adam', metrics=['mean_absolute_error'])\n",
        "  NN_model.summary()\n",
        "  return NN_model"
      ],
      "execution_count": 74,
      "outputs": []
    },
    {
      "cell_type": "code",
      "metadata": {
        "id": "WFCK7xbY18Vz",
        "colab_type": "code",
        "colab": {
          "base_uri": "https://localhost:8080/",
          "height": 334
        },
        "outputId": "4276295b-a7c1-4d54-e82d-61089deec7db"
      },
      "source": [
        "import keras\n",
        "from keras.models import load_model\n",
        "\n",
        "model = build_model()\n",
        "model.load_weights('Weights-158--0.01271.hdf5')"
      ],
      "execution_count": 75,
      "outputs": [
        {
          "output_type": "stream",
          "text": [
            "Model: \"sequential_19\"\n",
            "_________________________________________________________________\n",
            "Layer (type)                 Output Shape              Param #   \n",
            "=================================================================\n",
            "dense_76 (Dense)             (None, 128)               1024      \n",
            "_________________________________________________________________\n",
            "dense_77 (Dense)             (None, 256)               33024     \n",
            "_________________________________________________________________\n",
            "dense_78 (Dense)             (None, 128)               32896     \n",
            "_________________________________________________________________\n",
            "dense_79 (Dense)             (None, 64)                8256      \n",
            "_________________________________________________________________\n",
            "dense_80 (Dense)             (None, 1)                 65        \n",
            "=================================================================\n",
            "Total params: 75,265\n",
            "Trainable params: 75,265\n",
            "Non-trainable params: 0\n",
            "_________________________________________________________________\n"
          ],
          "name": "stdout"
        }
      ]
    },
    {
      "cell_type": "code",
      "metadata": {
        "id": "e5CVM0NyKdBX",
        "colab_type": "code",
        "colab": {
          "base_uri": "https://localhost:8080/",
          "height": 140
        },
        "outputId": "f56a1fc6-0211-4aa2-d5cd-9b6b6869e1d6"
      },
      "source": [
        "import numpy as np\n",
        "test = train[3999:]\n",
        "model.predict(test)"
      ],
      "execution_count": 77,
      "outputs": [
        {
          "output_type": "execute_result",
          "data": {
            "text/plain": [
              "array([[48.953106],\n",
              "       [51.63001 ],\n",
              "       [33.673058],\n",
              "       ...,\n",
              "       [35.086708],\n",
              "       [60.78499 ],\n",
              "       [57.941093]], dtype=float32)"
            ]
          },
          "metadata": {
            "tags": []
          },
          "execution_count": 77
        }
      ]
    },
    {
      "cell_type": "code",
      "metadata": {
        "id": "JsgO8TSzLXgm",
        "colab_type": "code",
        "colab": {}
      },
      "source": [
        ""
      ],
      "execution_count": null,
      "outputs": []
    },
    {
      "cell_type": "code",
      "metadata": {
        "id": "mYDYUwt5M4xZ",
        "colab_type": "code",
        "colab": {}
      },
      "source": [
        ""
      ],
      "execution_count": null,
      "outputs": []
    }
  ]
}